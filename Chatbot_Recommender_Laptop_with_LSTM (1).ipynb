{
  "nbformat": 4,
  "nbformat_minor": 0,
  "metadata": {
    "colab": {
      "name": "Chatbot Recommender Laptop with LSTM.ipynb",
      "provenance": [],
      "collapsed_sections": []
    },
    "kernelspec": {
      "display_name": "Python 3",
      "name": "python3"
    },
    "language_info": {
      "name": "python"
    }
  },
  "cells": [
    {
      "cell_type": "markdown",
      "metadata": {
        "id": "T-efYJpFdltO"
      },
      "source": [
        "#Natural Language Processing Chatbot Recommender Laptop with LSTM\n",
        "\n",
        "## Steven Tjayadi / 535180085\n",
        "\n",
        "###1. Import Library NLTK"
      ]
    },
    {
      "cell_type": "code",
      "metadata": {
        "colab": {
          "base_uri": "https://localhost:8080/"
        },
        "id": "vCyFoN5wd-jO",
        "outputId": "176fbb27-818f-4739-9591-25148a0d4082"
      },
      "source": [
        "import nltk\n",
        "from nltk.stem import WordNetLemmatizer\n",
        "lemmatizer = WordNetLemmatizer()\n",
        "\n",
        "# Download ini di google colab / Jupyter notebook untuk package tambahan\n",
        "nltk.download('punkt')\n",
        "nltk.download('wordnet')"
      ],
      "execution_count": null,
      "outputs": [
        {
          "output_type": "stream",
          "text": [
            "[nltk_data] Downloading package punkt to /root/nltk_data...\n",
            "[nltk_data]   Package punkt is already up-to-date!\n",
            "[nltk_data] Downloading package wordnet to /root/nltk_data...\n",
            "[nltk_data]   Package wordnet is already up-to-date!\n"
          ],
          "name": "stdout"
        },
        {
          "output_type": "execute_result",
          "data": {
            "text/plain": [
              "True"
            ]
          },
          "metadata": {
            "tags": []
          },
          "execution_count": 1
        }
      ]
    },
    {
      "cell_type": "markdown",
      "metadata": {
        "id": "fQjQ8z0ieJF9"
      },
      "source": [
        "### 2. Import Library tambahan untuk menyimpan file seperti pandas , numpy , json dll"
      ]
    },
    {
      "cell_type": "code",
      "metadata": {
        "id": "MhACe1K1eIhm"
      },
      "source": [
        "import json\n",
        "import pickle\n",
        "import random\n",
        "import numpy as np\n",
        "import pandas as pd"
      ],
      "execution_count": null,
      "outputs": []
    },
    {
      "cell_type": "markdown",
      "metadata": {
        "id": "Rx8IC2dgeZ4P"
      },
      "source": [
        "### 3. Import Library Machine Learning dan Deep Learning \n",
        "* Sklearn ( Machine Learning )\n",
        "* Keras ( Deep Learning )\n",
        "* tensorflow ( model deployment + integrated keras )"
      ]
    },
    {
      "cell_type": "code",
      "metadata": {
        "id": "RiJhcmvneaIu"
      },
      "source": [
        "import tensorflow as tf\n",
        "from sklearn.preprocessing import LabelEncoder\n",
        "import keras\n",
        "from keras.models import Sequential , load_model\n",
        "from keras.layers import Dense, Activation, Dropout , LSTM , Embedding\n",
        "from keras.optimizers import SGD\n",
        "from keras.preprocessing.text import Tokenizer"
      ],
      "execution_count": null,
      "outputs": []
    },
    {
      "cell_type": "markdown",
      "metadata": {
        "id": "EMU3PayefA9d"
      },
      "source": [
        "### 4. Melakukan import library Dataset Laptop 2 dan Dataset Chatbot"
      ]
    },
    {
      "cell_type": "code",
      "metadata": {
        "id": "pgc04SBee4Zm"
      },
      "source": [
        "data_file = open('Dataset Chatbot Laptop.json').read()\n",
        "intents = json.loads(data_file)\n",
        "spek = pd.read_csv(\"Dataset Laptop 2.csv\")"
      ],
      "execution_count": null,
      "outputs": []
    },
    {
      "cell_type": "markdown",
      "metadata": {
        "id": "aTlY5ASlfRPu"
      },
      "source": [
        "### 5. Membuat list baru untuk menyimpan data kata , kelas dan dokumen"
      ]
    },
    {
      "cell_type": "code",
      "metadata": {
        "id": "Y3c7y0KefQk-"
      },
      "source": [
        "words=[]\n",
        "classes = []\n",
        "documents = []\n",
        "ignore_words = ['?', '!']"
      ],
      "execution_count": null,
      "outputs": []
    },
    {
      "cell_type": "markdown",
      "metadata": {
        "id": "OQtziv3aflV1"
      },
      "source": [
        "### 6. Melakukan looping dari json untuk melakukan preprocessing text"
      ]
    },
    {
      "cell_type": "code",
      "metadata": {
        "id": "hANaK5zMflIm"
      },
      "source": [
        "for intent in intents['intents']:\n",
        "    for pattern in intent['patterns']:\n",
        "\n",
        "        #tokenize each word\n",
        "        w = nltk.word_tokenize(pattern)\n",
        "        words.extend(w)\n",
        "        #add documents in the corpus\n",
        "        documents.append((w, intent['tag']))\n",
        "\n",
        "        # add to our classes list\n",
        "        if intent['tag'] not in classes:\n",
        "            classes.append(intent['tag'])\n",
        "\n",
        "# lemmaztize and lower each word and remove duplicates\n",
        "words = [lemmatizer.lemmatize(w.lower()) for w in words if w not in ignore_words]\n",
        "words = sorted(list(set(words)))\n",
        "# sort classes\n",
        "classes = sorted(list(set(classes)))\n",
        "\n",
        "pickle.dump(words,open('testing_kata.pkl','wb'))\n",
        "pickle.dump(classes,open('testing.pkl','wb'))"
      ],
      "execution_count": null,
      "outputs": []
    },
    {
      "cell_type": "markdown",
      "metadata": {
        "id": "dkCAZkRwgF7m"
      },
      "source": [
        "### 7. Melakukan training dan membuat bag of words"
      ]
    },
    {
      "cell_type": "code",
      "metadata": {
        "id": "coKFG_GOgFtX"
      },
      "source": [
        "training = []\n",
        "# create an empty array for our output\n",
        "output_empty = [0] * len(classes)\n",
        "# training set, bag of words for each sentence\n",
        "for doc in documents:\n",
        "    # initialize our bag of words\n",
        "    bag = []\n",
        "    # list of tokenized words for the pattern\n",
        "    pattern_words = doc[0]\n",
        "    # lemmatize each word - create base word, in attempt to represent related words\n",
        "    pattern_words = [lemmatizer.lemmatize(word.lower()) for word in pattern_words]\n",
        "    # create our bag of words array with 1, if word match found in current pattern\n",
        "    for w in words:\n",
        "        bag.append(1) if w in pattern_words else bag.append(0)\n",
        "    \n",
        "    # output is a '0' for each tag and '1' for current tag (for each pattern)\n",
        "    output_row = list(output_empty)\n",
        "    output_row[classes.index(doc[1])] = 1\n",
        "    \n",
        "    training.append([bag, output_row])"
      ],
      "execution_count": null,
      "outputs": []
    },
    {
      "cell_type": "markdown",
      "metadata": {
        "id": "Nd2FtjcsgXmN"
      },
      "source": [
        "### 8. Melakukan pemisahkan antara training X dan Y "
      ]
    },
    {
      "cell_type": "code",
      "metadata": {
        "id": "6rCxUIyqgXM2",
        "colab": {
          "base_uri": "https://localhost:8080/"
        },
        "outputId": "79fe540a-b6ea-4bd9-ef5f-57ee28fc60ea"
      },
      "source": [
        "# shuffle our features and turn into np.array\n",
        "random.shuffle(training)\n",
        "training = np.array(training)\n",
        "# create train and test lists. X - patterns, Y - intents\n",
        "train_x = list(training[:,0])\n",
        "train_y = list(training[:,1])\n",
        "\n",
        "train_x_convert = np.array(train_x)\n",
        "train_y_convert = np.array(train_y)\n",
        "\n",
        "print(\"Training data created\")"
      ],
      "execution_count": null,
      "outputs": [
        {
          "output_type": "stream",
          "text": [
            "Training data created\n"
          ],
          "name": "stdout"
        },
        {
          "output_type": "stream",
          "text": [
            "/usr/local/lib/python3.7/dist-packages/ipykernel_launcher.py:3: VisibleDeprecationWarning: Creating an ndarray from ragged nested sequences (which is a list-or-tuple of lists-or-tuples-or ndarrays with different lengths or shapes) is deprecated. If you meant to do this, you must specify 'dtype=object' when creating the ndarray\n",
            "  This is separate from the ipykernel package so we can avoid doing imports until\n"
          ],
          "name": "stderr"
        }
      ]
    },
    {
      "cell_type": "markdown",
      "metadata": {
        "id": "h3JNipcfgqn1"
      },
      "source": [
        "### 9. Melakukan training data dengan Deep Learning"
      ]
    },
    {
      "cell_type": "code",
      "metadata": {
        "id": "zYMmNtKsgqDW",
        "colab": {
          "base_uri": "https://localhost:8080/"
        },
        "outputId": "55bdbd2a-d232-456b-d5cf-c219b0e4500e"
      },
      "source": [
        "model = Sequential()\n",
        "model.add(Dense(128 , input_shape=(len(train_x[0]),) , activation='relu'))\n",
        "model.add(Dropout(0.5))\n",
        "model.add(Dense(64, activation='relu'))\n",
        "model.add(Dropout(0.5))\n",
        "model.add(Dense(len(train_y_convert[0]), activation='softmax'))\n",
        "\n",
        "# Compile model. Stochastic gradient descent with Nesterov accelerated gradient gives good results for this model\n",
        "sgd = SGD(lr=0.01, decay=1e-6, momentum=0.9, nesterov=True)\n",
        "model.compile(loss='categorical_crossentropy', optimizer=sgd, metrics=['accuracy'])\n",
        "\n",
        "#fitting and saving the model \n",
        "hist = model.fit(train_x_convert , train_y_convert , epochs=100, batch_size=5, verbose=1)\n",
        "model.save('chatbot_model.h5', hist)\n",
        "\n",
        "print(\"model created\")"
      ],
      "execution_count": null,
      "outputs": [
        {
          "output_type": "stream",
          "text": [
            "/usr/local/lib/python3.7/dist-packages/tensorflow/python/keras/optimizer_v2/optimizer_v2.py:375: UserWarning: The `lr` argument is deprecated, use `learning_rate` instead.\n",
            "  \"The `lr` argument is deprecated, use `learning_rate` instead.\")\n"
          ],
          "name": "stderr"
        },
        {
          "output_type": "stream",
          "text": [
            "Epoch 1/100\n",
            "15/15 [==============================] - 13s 2ms/step - loss: 2.9527 - accuracy: 0.0575 \n",
            "Epoch 2/100\n",
            "15/15 [==============================] - 0s 1ms/step - loss: 2.8944 - accuracy: 0.1260\n",
            "Epoch 3/100\n",
            "15/15 [==============================] - 0s 1ms/step - loss: 2.7937 - accuracy: 0.1062\n",
            "Epoch 4/100\n",
            "15/15 [==============================] - 0s 1ms/step - loss: 2.7902 - accuracy: 0.2611\n",
            "Epoch 5/100\n",
            "15/15 [==============================] - 0s 1ms/step - loss: 2.7842 - accuracy: 0.0942\n",
            "Epoch 6/100\n",
            "15/15 [==============================] - 0s 1ms/step - loss: 2.5124 - accuracy: 0.2961\n",
            "Epoch 7/100\n",
            "15/15 [==============================] - 0s 1ms/step - loss: 2.5557 - accuracy: 0.1465\n",
            "Epoch 8/100\n",
            "15/15 [==============================] - 0s 1ms/step - loss: 2.4717 - accuracy: 0.2801\n",
            "Epoch 9/100\n",
            "15/15 [==============================] - 0s 1ms/step - loss: 2.2643 - accuracy: 0.3625\n",
            "Epoch 10/100\n",
            "15/15 [==============================] - 0s 1ms/step - loss: 2.3520 - accuracy: 0.2694\n",
            "Epoch 11/100\n",
            "15/15 [==============================] - 0s 2ms/step - loss: 2.1281 - accuracy: 0.3153\n",
            "Epoch 12/100\n",
            "15/15 [==============================] - 0s 2ms/step - loss: 2.0689 - accuracy: 0.4515\n",
            "Epoch 13/100\n",
            "15/15 [==============================] - 0s 2ms/step - loss: 2.1436 - accuracy: 0.3630\n",
            "Epoch 14/100\n",
            "15/15 [==============================] - 0s 1ms/step - loss: 1.7953 - accuracy: 0.4334\n",
            "Epoch 15/100\n",
            "15/15 [==============================] - 0s 2ms/step - loss: 1.7840 - accuracy: 0.4237\n",
            "Epoch 16/100\n",
            "15/15 [==============================] - 0s 2ms/step - loss: 1.7925 - accuracy: 0.3903\n",
            "Epoch 17/100\n",
            "15/15 [==============================] - 0s 1ms/step - loss: 1.6903 - accuracy: 0.4317\n",
            "Epoch 18/100\n",
            "15/15 [==============================] - 0s 2ms/step - loss: 1.4495 - accuracy: 0.5794\n",
            "Epoch 19/100\n",
            "15/15 [==============================] - 0s 2ms/step - loss: 1.5189 - accuracy: 0.5033\n",
            "Epoch 20/100\n",
            "15/15 [==============================] - 0s 2ms/step - loss: 1.1878 - accuracy: 0.6493\n",
            "Epoch 21/100\n",
            "15/15 [==============================] - 0s 2ms/step - loss: 1.1753 - accuracy: 0.6517\n",
            "Epoch 22/100\n",
            "15/15 [==============================] - 0s 2ms/step - loss: 1.2973 - accuracy: 0.5753\n",
            "Epoch 23/100\n",
            "15/15 [==============================] - 0s 1ms/step - loss: 1.5047 - accuracy: 0.4723\n",
            "Epoch 24/100\n",
            "15/15 [==============================] - 0s 1ms/step - loss: 1.3518 - accuracy: 0.5622\n",
            "Epoch 25/100\n",
            "15/15 [==============================] - 0s 1ms/step - loss: 1.1623 - accuracy: 0.6766\n",
            "Epoch 26/100\n",
            "15/15 [==============================] - 0s 2ms/step - loss: 1.1084 - accuracy: 0.5581\n",
            "Epoch 27/100\n",
            "15/15 [==============================] - 0s 2ms/step - loss: 0.9422 - accuracy: 0.7601\n",
            "Epoch 28/100\n",
            "15/15 [==============================] - 0s 2ms/step - loss: 1.0703 - accuracy: 0.6574\n",
            "Epoch 29/100\n",
            "15/15 [==============================] - 0s 2ms/step - loss: 0.9700 - accuracy: 0.6711\n",
            "Epoch 30/100\n",
            "15/15 [==============================] - 0s 1ms/step - loss: 1.0989 - accuracy: 0.5507\n",
            "Epoch 31/100\n",
            "15/15 [==============================] - 0s 2ms/step - loss: 0.6180 - accuracy: 0.7980\n",
            "Epoch 32/100\n",
            "15/15 [==============================] - 0s 2ms/step - loss: 0.8847 - accuracy: 0.6866\n",
            "Epoch 33/100\n",
            "15/15 [==============================] - 0s 2ms/step - loss: 0.9485 - accuracy: 0.6665\n",
            "Epoch 34/100\n",
            "15/15 [==============================] - 0s 2ms/step - loss: 0.8035 - accuracy: 0.7168\n",
            "Epoch 35/100\n",
            "15/15 [==============================] - 0s 2ms/step - loss: 0.5777 - accuracy: 0.8108\n",
            "Epoch 36/100\n",
            "15/15 [==============================] - 0s 2ms/step - loss: 0.9281 - accuracy: 0.6376\n",
            "Epoch 37/100\n",
            "15/15 [==============================] - 0s 1ms/step - loss: 0.7658 - accuracy: 0.7650\n",
            "Epoch 38/100\n",
            "15/15 [==============================] - 0s 1ms/step - loss: 0.6626 - accuracy: 0.7823\n",
            "Epoch 39/100\n",
            "15/15 [==============================] - 0s 2ms/step - loss: 0.8077 - accuracy: 0.8028\n",
            "Epoch 40/100\n",
            "15/15 [==============================] - 0s 1ms/step - loss: 0.6256 - accuracy: 0.7442\n",
            "Epoch 41/100\n",
            "15/15 [==============================] - 0s 2ms/step - loss: 0.7953 - accuracy: 0.7231\n",
            "Epoch 42/100\n",
            "15/15 [==============================] - 0s 2ms/step - loss: 0.6215 - accuracy: 0.7973\n",
            "Epoch 43/100\n",
            "15/15 [==============================] - 0s 2ms/step - loss: 0.8328 - accuracy: 0.6666\n",
            "Epoch 44/100\n",
            "15/15 [==============================] - 0s 1ms/step - loss: 0.5320 - accuracy: 0.8047\n",
            "Epoch 45/100\n",
            "15/15 [==============================] - 0s 1ms/step - loss: 0.7004 - accuracy: 0.6986\n",
            "Epoch 46/100\n",
            "15/15 [==============================] - 0s 2ms/step - loss: 0.5640 - accuracy: 0.8343\n",
            "Epoch 47/100\n",
            "15/15 [==============================] - 0s 2ms/step - loss: 0.6753 - accuracy: 0.8157\n",
            "Epoch 48/100\n",
            "15/15 [==============================] - 0s 2ms/step - loss: 0.5821 - accuracy: 0.7966\n",
            "Epoch 49/100\n",
            "15/15 [==============================] - 0s 1ms/step - loss: 0.5754 - accuracy: 0.8695\n",
            "Epoch 50/100\n",
            "15/15 [==============================] - 0s 1ms/step - loss: 0.8000 - accuracy: 0.7939\n",
            "Epoch 51/100\n",
            "15/15 [==============================] - 0s 1ms/step - loss: 0.4928 - accuracy: 0.9108\n",
            "Epoch 52/100\n",
            "15/15 [==============================] - 0s 1ms/step - loss: 0.4873 - accuracy: 0.8032\n",
            "Epoch 53/100\n",
            "15/15 [==============================] - 0s 1ms/step - loss: 0.5392 - accuracy: 0.7877\n",
            "Epoch 54/100\n",
            "15/15 [==============================] - 0s 1ms/step - loss: 0.6962 - accuracy: 0.7900\n",
            "Epoch 55/100\n",
            "15/15 [==============================] - 0s 2ms/step - loss: 0.5577 - accuracy: 0.7443\n",
            "Epoch 56/100\n",
            "15/15 [==============================] - 0s 2ms/step - loss: 0.4931 - accuracy: 0.8078\n",
            "Epoch 57/100\n",
            "15/15 [==============================] - 0s 1ms/step - loss: 0.3885 - accuracy: 0.8564\n",
            "Epoch 58/100\n",
            "15/15 [==============================] - 0s 2ms/step - loss: 0.5320 - accuracy: 0.8095\n",
            "Epoch 59/100\n",
            "15/15 [==============================] - 0s 1ms/step - loss: 0.3609 - accuracy: 0.8745\n",
            "Epoch 60/100\n",
            "15/15 [==============================] - 0s 2ms/step - loss: 0.5843 - accuracy: 0.7402\n",
            "Epoch 61/100\n",
            "15/15 [==============================] - 0s 1ms/step - loss: 0.5345 - accuracy: 0.7762\n",
            "Epoch 62/100\n",
            "15/15 [==============================] - 0s 2ms/step - loss: 0.7292 - accuracy: 0.7391\n",
            "Epoch 63/100\n",
            "15/15 [==============================] - 0s 2ms/step - loss: 0.4878 - accuracy: 0.8466\n",
            "Epoch 64/100\n",
            "15/15 [==============================] - 0s 1ms/step - loss: 0.4408 - accuracy: 0.8510\n",
            "Epoch 65/100\n",
            "15/15 [==============================] - 0s 1ms/step - loss: 0.3677 - accuracy: 0.8155\n",
            "Epoch 66/100\n",
            "15/15 [==============================] - 0s 2ms/step - loss: 0.4681 - accuracy: 0.8839\n",
            "Epoch 67/100\n",
            "15/15 [==============================] - 0s 2ms/step - loss: 0.4820 - accuracy: 0.7742\n",
            "Epoch 68/100\n",
            "15/15 [==============================] - 0s 1ms/step - loss: 0.5217 - accuracy: 0.8036\n",
            "Epoch 69/100\n",
            "15/15 [==============================] - 0s 1ms/step - loss: 0.4931 - accuracy: 0.8222\n",
            "Epoch 70/100\n",
            "15/15 [==============================] - 0s 2ms/step - loss: 0.5753 - accuracy: 0.7625\n",
            "Epoch 71/100\n",
            "15/15 [==============================] - 0s 2ms/step - loss: 0.4467 - accuracy: 0.7871\n",
            "Epoch 72/100\n",
            "15/15 [==============================] - 0s 2ms/step - loss: 0.4960 - accuracy: 0.8228\n",
            "Epoch 73/100\n",
            "15/15 [==============================] - 0s 2ms/step - loss: 0.5169 - accuracy: 0.8158\n",
            "Epoch 74/100\n",
            "15/15 [==============================] - 0s 2ms/step - loss: 0.5527 - accuracy: 0.8432\n",
            "Epoch 75/100\n",
            "15/15 [==============================] - 0s 2ms/step - loss: 0.4672 - accuracy: 0.8050\n",
            "Epoch 76/100\n",
            "15/15 [==============================] - 0s 2ms/step - loss: 0.5096 - accuracy: 0.7775\n",
            "Epoch 77/100\n",
            "15/15 [==============================] - 0s 2ms/step - loss: 0.4322 - accuracy: 0.8427\n",
            "Epoch 78/100\n",
            "15/15 [==============================] - 0s 2ms/step - loss: 0.5030 - accuracy: 0.8319\n",
            "Epoch 79/100\n",
            "15/15 [==============================] - 0s 2ms/step - loss: 0.3680 - accuracy: 0.8804\n",
            "Epoch 80/100\n",
            "15/15 [==============================] - 0s 1ms/step - loss: 0.3029 - accuracy: 0.8892\n",
            "Epoch 81/100\n",
            "15/15 [==============================] - 0s 2ms/step - loss: 0.4420 - accuracy: 0.8564\n",
            "Epoch 82/100\n",
            "15/15 [==============================] - 0s 2ms/step - loss: 0.4885 - accuracy: 0.8080\n",
            "Epoch 83/100\n",
            "15/15 [==============================] - 0s 2ms/step - loss: 0.3254 - accuracy: 0.8804\n",
            "Epoch 84/100\n",
            "15/15 [==============================] - 0s 2ms/step - loss: 0.3436 - accuracy: 0.8447\n",
            "Epoch 85/100\n",
            "15/15 [==============================] - 0s 2ms/step - loss: 0.5071 - accuracy: 0.8271\n",
            "Epoch 86/100\n",
            "15/15 [==============================] - 0s 2ms/step - loss: 0.3541 - accuracy: 0.8420\n",
            "Epoch 87/100\n",
            "15/15 [==============================] - 0s 2ms/step - loss: 0.4765 - accuracy: 0.8784\n",
            "Epoch 88/100\n",
            "15/15 [==============================] - 0s 2ms/step - loss: 0.5528 - accuracy: 0.7595\n",
            "Epoch 89/100\n",
            "15/15 [==============================] - 0s 2ms/step - loss: 0.4173 - accuracy: 0.8857\n",
            "Epoch 90/100\n",
            "15/15 [==============================] - 0s 1ms/step - loss: 0.5580 - accuracy: 0.8033\n",
            "Epoch 91/100\n",
            "15/15 [==============================] - 0s 2ms/step - loss: 0.4948 - accuracy: 0.7756\n",
            "Epoch 92/100\n",
            "15/15 [==============================] - 0s 2ms/step - loss: 0.3555 - accuracy: 0.8171\n",
            "Epoch 93/100\n",
            "15/15 [==============================] - 0s 2ms/step - loss: 0.3398 - accuracy: 0.8227\n",
            "Epoch 94/100\n",
            "15/15 [==============================] - 0s 1ms/step - loss: 0.4432 - accuracy: 0.8492\n",
            "Epoch 95/100\n",
            "15/15 [==============================] - 0s 2ms/step - loss: 0.3901 - accuracy: 0.7854\n",
            "Epoch 96/100\n",
            "15/15 [==============================] - 0s 1ms/step - loss: 0.5410 - accuracy: 0.7470\n",
            "Epoch 97/100\n",
            "15/15 [==============================] - 0s 2ms/step - loss: 0.3247 - accuracy: 0.9293\n",
            "Epoch 98/100\n",
            "15/15 [==============================] - 0s 2ms/step - loss: 0.4602 - accuracy: 0.7363\n",
            "Epoch 99/100\n",
            "15/15 [==============================] - 0s 1ms/step - loss: 0.3573 - accuracy: 0.8426\n",
            "Epoch 100/100\n",
            "15/15 [==============================] - 0s 1ms/step - loss: 0.3996 - accuracy: 0.8389\n",
            "model created\n"
          ],
          "name": "stdout"
        }
      ]
    },
    {
      "cell_type": "markdown",
      "metadata": {
        "id": "CBY3G-fQg5t2"
      },
      "source": [
        "### 10. Melakukan load model untuk di testing dari hasil traning"
      ]
    },
    {
      "cell_type": "code",
      "metadata": {
        "id": "os0x9ISog5Ge"
      },
      "source": [
        "model = load_model('chatbot_model.h5')\n",
        "intents = json.loads(open('Dataset Chatbot Laptop.json').read())\n",
        "words = pickle.load(open('testing_kata.pkl','rb'))\n",
        "classes = pickle.load(open('testing.pkl','rb'))"
      ],
      "execution_count": null,
      "outputs": []
    },
    {
      "cell_type": "markdown",
      "metadata": {
        "id": "HvVck3dthZkb"
      },
      "source": [
        "### 11. Membuat Function Predict untuk melakukan predict pada Chatbot"
      ]
    },
    {
      "cell_type": "markdown",
      "metadata": {
        "id": "b8OsAJQlheNr"
      },
      "source": [
        "#### 1. Melakukan Cleaning kalimat"
      ]
    },
    {
      "cell_type": "code",
      "metadata": {
        "id": "UUhSfRgThZKs"
      },
      "source": [
        "def clean_up_sentence(sentence):\n",
        "    # tokenize the pattern - split words into array\n",
        "    sentence_words = nltk.word_tokenize(sentence)\n",
        "    # stem each word - create short form for word\n",
        "    sentence_words = [lemmatizer.lemmatize(word.lower()) for word in sentence_words]\n",
        "    return sentence_words"
      ],
      "execution_count": null,
      "outputs": []
    },
    {
      "cell_type": "markdown",
      "metadata": {
        "id": "g8Quve3WhplG"
      },
      "source": [
        "#### 2. Melakukan Bag of words untuk predict"
      ]
    },
    {
      "cell_type": "code",
      "metadata": {
        "id": "rVXntm-UhpaM"
      },
      "source": [
        "def bow(sentence, words, show_details=True):\n",
        "    # tokenize the pattern\n",
        "    sentence_words = clean_up_sentence(sentence)\n",
        "    # bag of words - matrix of N words, vocabulary matrix\n",
        "    bag = [0]*len(words)  \n",
        "    for s in sentence_words:\n",
        "        for i,w in enumerate(words):\n",
        "            if w == s: \n",
        "                # assign 1 if current word is in the vocabulary position\n",
        "                bag[i] = 1\n",
        "                if show_details:\n",
        "                    print (\"found in bag: %s\" % w)\n",
        "    return(np.array(bag))"
      ],
      "execution_count": null,
      "outputs": []
    },
    {
      "cell_type": "markdown",
      "metadata": {
        "id": "FtpdXjuuhzT9"
      },
      "source": [
        "#### 3. Melakukan Predict sesuai kelas kategori ( Classes )"
      ]
    },
    {
      "cell_type": "code",
      "metadata": {
        "id": "lfdXzLm8hzH4"
      },
      "source": [
        "def predict_class(sentence, model):\n",
        "    # filter out predictions below a threshold\n",
        "    p = bow(sentence, words,show_details=False)\n",
        "    res = model.predict(np.array([p]))[0]\n",
        "    ERROR_THRESHOLD = 0.25\n",
        "    results = [[i,r] for i,r in enumerate(res) if r>ERROR_THRESHOLD]\n",
        "    # sort by strength of probability\n",
        "    results.sort(key=lambda x: x[1], reverse=True)\n",
        "    return_list = []\n",
        "    for r in results:\n",
        "        return_list.append({\"intent\": classes[r[0]], \"probability\": str(r[1])})\n",
        "    return return_list"
      ],
      "execution_count": null,
      "outputs": []
    },
    {
      "cell_type": "markdown",
      "metadata": {
        "id": "72qlEou_h9AN"
      },
      "source": [
        "#### 4. Memanggil Response dalam Chatbot "
      ]
    },
    {
      "cell_type": "code",
      "metadata": {
        "id": "i2QuH97mQtfw"
      },
      "source": [
        "def getResponse(ints, intents_json):\n",
        "    tag = ints[0]['intent']\n",
        "    list_of_intents = intents_json['intents']\n",
        "    for i in list_of_intents:\n",
        "        if(i['tag']== tag):\n",
        "            result = random.choice(i['responses'])\n",
        "            break\n",
        "    return result\n",
        "\n",
        "def chatbot_response(msg):\n",
        "    ints = predict_class(msg, model)\n",
        "    res = getResponse(ints, intents)\n",
        "    return res"
      ],
      "execution_count": null,
      "outputs": []
    },
    {
      "cell_type": "markdown",
      "metadata": {
        "id": "lk7a0VMLiTbI"
      },
      "source": [
        "### 12. Melakukan Deployment ke website menggunakan Flask"
      ]
    },
    {
      "cell_type": "markdown",
      "metadata": {
        "id": "mCjWnqnPiam-"
      },
      "source": [
        "#### 1. Melakukan instalasi flask-ngrok ( Jika di google colab )"
      ]
    },
    {
      "cell_type": "code",
      "metadata": {
        "colab": {
          "base_uri": "https://localhost:8080/"
        },
        "id": "mLEJkNp4mVor",
        "outputId": "f18e43d8-df85-412d-cae3-f784dc78236c"
      },
      "source": [
        "!pip install flask-ngrok"
      ],
      "execution_count": null,
      "outputs": [
        {
          "output_type": "stream",
          "text": [
            "Requirement already satisfied: flask-ngrok in /usr/local/lib/python3.7/dist-packages (0.0.25)\n",
            "Requirement already satisfied: requests in /usr/local/lib/python3.7/dist-packages (from flask-ngrok) (2.23.0)\n",
            "Requirement already satisfied: Flask>=0.8 in /usr/local/lib/python3.7/dist-packages (from flask-ngrok) (1.1.4)\n",
            "Requirement already satisfied: urllib3!=1.25.0,!=1.25.1,<1.26,>=1.21.1 in /usr/local/lib/python3.7/dist-packages (from requests->flask-ngrok) (1.24.3)\n",
            "Requirement already satisfied: certifi>=2017.4.17 in /usr/local/lib/python3.7/dist-packages (from requests->flask-ngrok) (2020.12.5)\n",
            "Requirement already satisfied: chardet<4,>=3.0.2 in /usr/local/lib/python3.7/dist-packages (from requests->flask-ngrok) (3.0.4)\n",
            "Requirement already satisfied: idna<3,>=2.5 in /usr/local/lib/python3.7/dist-packages (from requests->flask-ngrok) (2.10)\n",
            "Requirement already satisfied: Jinja2<3.0,>=2.10.1 in /usr/local/lib/python3.7/dist-packages (from Flask>=0.8->flask-ngrok) (2.11.3)\n",
            "Requirement already satisfied: itsdangerous<2.0,>=0.24 in /usr/local/lib/python3.7/dist-packages (from Flask>=0.8->flask-ngrok) (1.1.0)\n",
            "Requirement already satisfied: Werkzeug<2.0,>=0.15 in /usr/local/lib/python3.7/dist-packages (from Flask>=0.8->flask-ngrok) (1.0.1)\n",
            "Requirement already satisfied: click<8.0,>=5.1 in /usr/local/lib/python3.7/dist-packages (from Flask>=0.8->flask-ngrok) (7.1.2)\n",
            "Requirement already satisfied: MarkupSafe>=0.23 in /usr/local/lib/python3.7/dist-packages (from Jinja2<3.0,>=2.10.1->Flask>=0.8->flask-ngrok) (2.0.1)\n"
          ],
          "name": "stdout"
        }
      ]
    },
    {
      "cell_type": "markdown",
      "metadata": {
        "id": "h4QMazG2igkt"
      },
      "source": [
        "#### 2. Deployment hasil model melalui website dari Google Colab"
      ]
    },
    {
      "cell_type": "code",
      "metadata": {
        "colab": {
          "base_uri": "https://localhost:8080/"
        },
        "id": "zB2bUxj8mZ8q",
        "outputId": "85f98e33-aeaf-49d6-eedf-9d5545adfe83"
      },
      "source": [
        "from flask_ngrok import run_with_ngrok\n",
        "from flask import Flask , render_template , request , url_for\n",
        "\n",
        "app = Flask(__name__)\n",
        "\n",
        "run_with_ngrok(app)   #starts ngrok when the app is run jika di google colab\n",
        "\n",
        "@app.route(\"/\")\n",
        "def home(): \n",
        "    return render_template(\"Design Chatbot.html\")\n",
        "\n",
        "list_question = []\n",
        "list_answer = []\n",
        "\n",
        "@app.route(\"/get\")\n",
        "def get_bot_response():    \n",
        "    userText = request.args.get('msg')\n",
        "    list_question.append(userText)\n",
        "    list_answer.append(str(chatbot_response(userText)))     \n",
        "    return str(chatbot_response(userText))\n",
        " \n",
        "  \n",
        "if __name__ == \"__main__\":\n",
        "    app.run()"
      ],
      "execution_count": null,
      "outputs": [
        {
          "output_type": "stream",
          "text": [
            " * Serving Flask app \"__main__\" (lazy loading)\n",
            " * Environment: production\n",
            "\u001b[31m   WARNING: This is a development server. Do not use it in a production deployment.\u001b[0m\n",
            "\u001b[2m   Use a production WSGI server instead.\u001b[0m\n",
            " * Debug mode: off\n"
          ],
          "name": "stdout"
        },
        {
          "output_type": "stream",
          "text": [
            " * Running on http://127.0.0.1:5000/ (Press CTRL+C to quit)\n"
          ],
          "name": "stderr"
        },
        {
          "output_type": "stream",
          "text": [
            " * Running on http://d1a13b2f1626.ngrok.io\n",
            " * Traffic stats available on http://127.0.0.1:4040\n"
          ],
          "name": "stdout"
        },
        {
          "output_type": "stream",
          "text": [
            "127.0.0.1 - - [27/May/2021 18:10:26] \"\u001b[37mGET / HTTP/1.1\u001b[0m\" 200 -\n",
            "127.0.0.1 - - [27/May/2021 18:10:27] \"\u001b[37mGET /static/images/Chatop%20Wallpaper.jpg HTTP/1.1\u001b[0m\" 200 -\n",
            "127.0.0.1 - - [27/May/2021 18:10:28] \"\u001b[37mGET /static/images/Icon%20send%20chatbot.png HTTP/1.1\u001b[0m\" 200 -\n",
            "127.0.0.1 - - [27/May/2021 18:10:28] \"\u001b[37mGET / HTTP/1.1\u001b[0m\" 200 -\n",
            "127.0.0.1 - - [27/May/2021 18:10:29] \"\u001b[33mGET /favicon.ico HTTP/1.1\u001b[0m\" 404 -\n",
            "127.0.0.1 - - [27/May/2021 18:10:31] \"\u001b[37mGET /static/images/Chatop%20Wallpaper.jpg HTTP/1.1\u001b[0m\" 200 -\n",
            "127.0.0.1 - - [27/May/2021 18:10:32] \"\u001b[37mGET /static/images/Icon%20send%20chatbot.png HTTP/1.1\u001b[0m\" 200 -\n",
            "127.0.0.1 - - [27/May/2021 18:10:40] \"\u001b[37mGET /get?msg=Hallo%20ada%20saran%20untuk%20laptop%20%3F HTTP/1.1\u001b[0m\" 200 -\n",
            "127.0.0.1 - - [27/May/2021 18:10:49] \"\u001b[37mGET /get?msg=Performance HTTP/1.1\u001b[0m\" 200 -\n",
            "127.0.0.1 - - [27/May/2021 18:10:53] \"\u001b[37mGET /get?msg=tidak HTTP/1.1\u001b[0m\" 200 -\n",
            "127.0.0.1 - - [27/May/2021 18:10:58] \"\u001b[37mGET /get?msg=boleh%20sedang HTTP/1.1\u001b[0m\" 200 -\n",
            "127.0.0.1 - - [27/May/2021 18:11:08] \"\u001b[37mGET /get?msg=bebas HTTP/1.1\u001b[0m\" 200 -\n",
            "127.0.0.1 - - [27/May/2021 18:11:14] \"\u001b[37mGET /get?msg=oke%20boleh%20ASUS HTTP/1.1\u001b[0m\" 200 -\n",
            "127.0.0.1 - - [27/May/2021 18:12:13] \"\u001b[37mGET /get?msg=terima%20kasih%20infonya HTTP/1.1\u001b[0m\" 200 -\n"
          ],
          "name": "stderr"
        }
      ]
    },
    {
      "cell_type": "code",
      "metadata": {
        "colab": {
          "base_uri": "https://localhost:8080/"
        },
        "id": "OwxzruUoAAXA",
        "outputId": "4175ff41-7036-4e08-a0ff-62f39a38b4b8"
      },
      "source": [
        "list_question"
      ],
      "execution_count": null,
      "outputs": [
        {
          "output_type": "execute_result",
          "data": {
            "text/plain": [
              "['Hallo ada saran untuk laptop ?',\n",
              " 'Performance',\n",
              " 'tidak',\n",
              " 'boleh sedang',\n",
              " 'bebas',\n",
              " 'oke boleh ASUS',\n",
              " 'terima kasih infonya']"
            ]
          },
          "metadata": {
            "tags": []
          },
          "execution_count": 17
        }
      ]
    },
    {
      "cell_type": "code",
      "metadata": {
        "colab": {
          "base_uri": "https://localhost:8080/"
        },
        "id": "rLLUf_JIAJWa",
        "outputId": "c3cf72a5-1947-45fd-91c3-0c185f7b5aea"
      },
      "source": [
        "list_answer"
      ],
      "execution_count": null,
      "outputs": [
        {
          "output_type": "execute_result",
          "data": {
            "text/plain": [
              "['Boleh. Anda butuh Laptop untuk Performance , Main Game , Kerja , atau 3 in 1',\n",
              " 'Apakah anda butuh harga yang cukup signifikan ? ',\n",
              " 'Oke , Apakah anda mau harga laptop yang murah , sedang , atau boleh dengan harga mahal ?',\n",
              " 'Baik. Anda lebih suka merek apa ya ? ( ASUS , MSI , Acer , Dell , atau mau bebas )',\n",
              " 'Apakah anda mau merek Dell ? Harganya terjangkau loh ',\n",
              " ' Laptop Rekomendasi \\n  ( Nama : ASUS ROG Zephyrus S )   \\n   ( Merek : ASUS ) \\n ( Size : 15,6 inch FHD ) \\n  ( Processor : i7-8750H ) \\n  ( RAM : 16 GB ) \\n ( GPU : NVIDIA GEFORCE RTX 2070 8 GB ) \\n  ( Storage : 512 GB SSD ) \\n  ( Harga : 25.969.093,8 )  \\n  ( Link : https://www.amazon.com/dp/B07KS1JF2H?tag=wuuff-20&linkCode=ogi&th=1&psc=1 ) ',\n",
              " 'Sama-sama']"
            ]
          },
          "metadata": {
            "tags": []
          },
          "execution_count": 18
        }
      ]
    },
    {
      "cell_type": "code",
      "metadata": {
        "id": "fIcaswA-QY_T",
        "colab": {
          "base_uri": "https://localhost:8080/"
        },
        "outputId": "9ae97b9c-786c-4bae-c07f-51da51d697d9"
      },
      "source": [
        "print(\"Chatop\")\n",
        "\n",
        "for i in range(0,1000):\n",
        "    question = input(\"You : \")\n",
        "    print(\"Bot :\" , chatbot_response(question))\n",
        "\n",
        "    if question in (\"See you\" , \"see you\" , \"Bye\"):\n",
        "        break"
      ],
      "execution_count": null,
      "outputs": [
        {
          "output_type": "stream",
          "text": [
            "Chatop\n",
            "You : Hallo ada saran untuk laptop\n",
            "Bot : Boleh. Anda butuh Laptop untuk Performance , Main Game , Kerja , atau 2 in 1\n",
            "You : ASUS\n",
            "Bot :  Laptop Rekomendasi \n",
            "  ( Nama : ASUS ROG Zephyrus S )   \n",
            "   ( Merek : ASUS ) \n",
            " ( Size : 15,6 inch FHD ) \n",
            "  ( Processor : i7-8750H ) \n",
            "  ( RAM : 16 GB ) \n",
            " ( GPU : NVIDIA GEFORCE RTX 2070 8 GB ) \n",
            "  ( Storage : 512 GB SSD ) \n",
            "  ( Harga : 25.969.093,8 )  \n",
            "  ( Link : https://www.amazon.com/dp/B07KS1JF2H?tag=wuuff-20&linkCode=ogi&th=1&psc=1 ) \n",
            "You : See you\n",
            "Bot : Bye! Come back again soon.\n"
          ],
          "name": "stdout"
        }
      ]
    },
    {
      "cell_type": "markdown",
      "metadata": {
        "id": "_GFdcFKRCTaA"
      },
      "source": [
        "### 13. Training Rekomendasi Laptop berdasarkan hasil input dan output Chatbot"
      ]
    },
    {
      "cell_type": "code",
      "metadata": {
        "colab": {
          "base_uri": "https://localhost:8080/",
          "height": 286
        },
        "id": "NmS3ARUoaUQV",
        "outputId": "d3e5c5b0-9a39-4891-972e-56522b9a812b"
      },
      "source": [
        "dropped_column = [\"Nama Laptop\" , \"Size\" , \"Processor\" , \"GPU\" , \"Storage\" , \"Link\" , \"Harga\" , \"RAM\"] ## List column ambil dari responses chatbot nya\n",
        "X = spek.drop(dropped_column , axis = 1)\n",
        "value_x = X.values\n",
        "Y = spek.iloc[:,0]\n",
        "X\n",
        "\n",
        "## Reshaping untuk Tokenizer text\n",
        "reshaping_x = []\n",
        "\n",
        "for i in range(len(value_x)):\n",
        "    for j in range(len(value_x[i])):\n",
        "        reshaping_x.append(value_x[i][j])"
      ],
      "execution_count": null,
      "outputs": [
        {
          "output_type": "execute_result",
          "data": {
            "text/html": [
              "<div>\n",
              "<style scoped>\n",
              "    .dataframe tbody tr th:only-of-type {\n",
              "        vertical-align: middle;\n",
              "    }\n",
              "\n",
              "    .dataframe tbody tr th {\n",
              "        vertical-align: top;\n",
              "    }\n",
              "\n",
              "    .dataframe thead th {\n",
              "        text-align: right;\n",
              "    }\n",
              "</style>\n",
              "<table border=\"1\" class=\"dataframe\">\n",
              "  <thead>\n",
              "    <tr style=\"text-align: right;\">\n",
              "      <th></th>\n",
              "      <th>Brand</th>\n",
              "      <th>Kategori</th>\n",
              "    </tr>\n",
              "  </thead>\n",
              "  <tbody>\n",
              "    <tr>\n",
              "      <th>0</th>\n",
              "      <td>ASUS</td>\n",
              "      <td>Game</td>\n",
              "    </tr>\n",
              "    <tr>\n",
              "      <th>1</th>\n",
              "      <td>MSI</td>\n",
              "      <td>Game</td>\n",
              "    </tr>\n",
              "    <tr>\n",
              "      <th>2</th>\n",
              "      <td>Acer</td>\n",
              "      <td>Price</td>\n",
              "    </tr>\n",
              "    <tr>\n",
              "      <th>3</th>\n",
              "      <td>MSI</td>\n",
              "      <td>Job</td>\n",
              "    </tr>\n",
              "    <tr>\n",
              "      <th>4</th>\n",
              "      <td>Acer</td>\n",
              "      <td>Job</td>\n",
              "    </tr>\n",
              "    <tr>\n",
              "      <th>5</th>\n",
              "      <td>Dell</td>\n",
              "      <td>Price</td>\n",
              "    </tr>\n",
              "    <tr>\n",
              "      <th>6</th>\n",
              "      <td>ASUS</td>\n",
              "      <td>Performance</td>\n",
              "    </tr>\n",
              "    <tr>\n",
              "      <th>7</th>\n",
              "      <td>Dell</td>\n",
              "      <td>Price</td>\n",
              "    </tr>\n",
              "  </tbody>\n",
              "</table>\n",
              "</div>"
            ],
            "text/plain": [
              "  Brand     Kategori\n",
              "0  ASUS         Game\n",
              "1   MSI         Game\n",
              "2  Acer        Price\n",
              "3   MSI          Job\n",
              "4  Acer          Job\n",
              "5  Dell        Price\n",
              "6  ASUS  Performance\n",
              "7  Dell        Price"
            ]
          },
          "metadata": {
            "tags": []
          },
          "execution_count": 20
        }
      ]
    },
    {
      "cell_type": "markdown",
      "metadata": {
        "id": "G9ASVttmC-Ww"
      },
      "source": [
        "### 14. Preprocessing Text dengan tokenizer Deep Learning dari Keras dan Scikit-learn"
      ]
    },
    {
      "cell_type": "code",
      "metadata": {
        "colab": {
          "base_uri": "https://localhost:8080/"
        },
        "id": "LQMzZVdxadUF",
        "outputId": "a2a7a58f-579d-4c7e-920b-f52bc8ffae77"
      },
      "source": [
        "tokenizer = Tokenizer()\n",
        "tokenizer.fit_on_texts(reshaping_x)\n",
        "sequences = tokenizer.texts_to_sequences(reshaping_x)\n",
        "\n",
        "sequences_numpy = np.array(sequences)\n",
        "\n",
        "j = len(sequences_numpy)/len(X)\n",
        "sequences_numpy = sequences_numpy.reshape(8,2)\n",
        "\n",
        "vocabulary_size = len(tokenizer.word_counts)"
      ],
      "execution_count": null,
      "outputs": [
        {
          "output_type": "execute_result",
          "data": {
            "text/plain": [
              "[[2],\n",
              " [3],\n",
              " [4],\n",
              " [3],\n",
              " [5],\n",
              " [1],\n",
              " [4],\n",
              " [6],\n",
              " [5],\n",
              " [6],\n",
              " [7],\n",
              " [1],\n",
              " [2],\n",
              " [8],\n",
              " [7],\n",
              " [1]]"
            ]
          },
          "metadata": {
            "tags": []
          },
          "execution_count": 24
        }
      ]
    },
    {
      "cell_type": "code",
      "metadata": {
        "colab": {
          "base_uri": "https://localhost:8080/"
        },
        "id": "oX7Q-4eGawCu",
        "outputId": "13deecef-900f-4dab-8f9a-02f00a54bc7a"
      },
      "source": [
        "from sklearn.preprocessing import LabelEncoder # Mengonvert hasil y menjadi kode angka\n",
        "converter = LabelEncoder()\n",
        "Y_convert = converter.fit_transform(Y)"
      ],
      "execution_count": null,
      "outputs": [
        {
          "output_type": "execute_result",
          "data": {
            "text/plain": [
              "array([0, 7, 1, 6, 2, 5, 3, 4])"
            ]
          },
          "metadata": {
            "tags": []
          },
          "execution_count": 29
        }
      ]
    },
    {
      "cell_type": "code",
      "metadata": {
        "colab": {
          "base_uri": "https://localhost:8080/"
        },
        "id": "Ndk7dQ8kayLN",
        "outputId": "239505e4-793f-46a0-e770-a45735f8a723"
      },
      "source": [
        "import keras.utils\n",
        "from keras.utils.np_utils import to_categorical\n",
        "\n",
        "x = sequences_numpy\n",
        "y = Y_convert\n",
        "\n",
        "y = to_categorical(y , num_classes=vocabulary_size+1)\n",
        "\n",
        "seq_len = len(x)"
      ],
      "execution_count": null,
      "outputs": [
        {
          "output_type": "execute_result",
          "data": {
            "text/plain": [
              "8"
            ]
          },
          "metadata": {
            "tags": []
          },
          "execution_count": 30
        }
      ]
    },
    {
      "cell_type": "markdown",
      "metadata": {
        "id": "5C_4NaHoEUVN"
      },
      "source": [
        "### 15. Membuat Model Deep Learning LSTM"
      ]
    },
    {
      "cell_type": "code",
      "metadata": {
        "id": "5GHiEPULap2l"
      },
      "source": [
        "def create_model(vocabulary_size, seq_len):\n",
        "    model = Sequential()\n",
        "    model.add(Embedding(vocabulary_size, 10, input_length=seq_len))\n",
        "    model.add(LSTM(100, return_sequences=True))\n",
        "    model.add(LSTM(100))\n",
        "    model.add(Dense(100, activation='relu'))\n",
        "\n",
        "    model.add(Dense(vocabulary_size, activation='softmax'))\n",
        "    \n",
        "    # Categorical Cross Entropy = Cost Function Classification di Machine Learning\n",
        "    model.compile(loss='categorical_crossentropy', optimizer='adam', metrics=['accuracy'])\n",
        "   \n",
        "    model.summary()\n",
        "    \n",
        "    return model"
      ],
      "execution_count": null,
      "outputs": []
    },
    {
      "cell_type": "code",
      "metadata": {
        "colab": {
          "base_uri": "https://localhost:8080/"
        },
        "id": "OiaHoalHa1q_",
        "outputId": "5945b978-63df-4c17-e9bf-dc537377d563"
      },
      "source": [
        "# define model\n",
        "model = create_model(vocabulary_size+1, seq_len)"
      ],
      "execution_count": null,
      "outputs": [
        {
          "output_type": "stream",
          "text": [
            "Model: \"sequential_1\"\n",
            "_________________________________________________________________\n",
            "Layer (type)                 Output Shape              Param #   \n",
            "=================================================================\n",
            "embedding (Embedding)        (None, 8, 10)             90        \n",
            "_________________________________________________________________\n",
            "lstm (LSTM)                  (None, 8, 100)            44400     \n",
            "_________________________________________________________________\n",
            "lstm_1 (LSTM)                (None, 100)               80400     \n",
            "_________________________________________________________________\n",
            "dense_3 (Dense)              (None, 100)               10100     \n",
            "_________________________________________________________________\n",
            "dense_4 (Dense)              (None, 9)                 909       \n",
            "=================================================================\n",
            "Total params: 135,899\n",
            "Trainable params: 135,899\n",
            "Non-trainable params: 0\n",
            "_________________________________________________________________\n"
          ],
          "name": "stdout"
        }
      ]
    },
    {
      "cell_type": "markdown",
      "metadata": {
        "id": "SxaOEq4rEaA9"
      },
      "source": [
        "#### Melakukan training LSTM"
      ]
    },
    {
      "cell_type": "code",
      "metadata": {
        "colab": {
          "base_uri": "https://localhost:8080/"
        },
        "id": "DKCT6Qfra372",
        "outputId": "e7b94c72-70d4-4cfa-ea2c-03b96d6f1043"
      },
      "source": [
        "# Melakukan training LSTM\n",
        "model.fit(np.array(x), np.array(y), batch_size=128, epochs=75,verbose=1)"
      ],
      "execution_count": null,
      "outputs": [
        {
          "output_type": "stream",
          "text": [
            "Epoch 1/75\n",
            "WARNING:tensorflow:Model was constructed with shape (None, 8) for input KerasTensor(type_spec=TensorSpec(shape=(None, 8), dtype=tf.float32, name='embedding_input'), name='embedding_input', description=\"created by layer 'embedding_input'\"), but it was called on an input with incompatible shape (None, 2).\n",
            "WARNING:tensorflow:Model was constructed with shape (None, 8) for input KerasTensor(type_spec=TensorSpec(shape=(None, 8), dtype=tf.float32, name='embedding_input'), name='embedding_input', description=\"created by layer 'embedding_input'\"), but it was called on an input with incompatible shape (None, 2).\n",
            "1/1 [==============================] - 6s 6s/step - loss: 2.1971 - accuracy: 0.2500\n",
            "Epoch 2/75\n",
            "1/1 [==============================] - 0s 17ms/step - loss: 2.1958 - accuracy: 0.1250\n",
            "Epoch 3/75\n",
            "1/1 [==============================] - 0s 10ms/step - loss: 2.1946 - accuracy: 0.1250\n",
            "Epoch 4/75\n",
            "1/1 [==============================] - 0s 10ms/step - loss: 2.1932 - accuracy: 0.1250\n",
            "Epoch 5/75\n",
            "1/1 [==============================] - 0s 12ms/step - loss: 2.1919 - accuracy: 0.1250\n",
            "Epoch 6/75\n",
            "1/1 [==============================] - 0s 9ms/step - loss: 2.1904 - accuracy: 0.1250\n",
            "Epoch 7/75\n",
            "1/1 [==============================] - 0s 10ms/step - loss: 2.1888 - accuracy: 0.1250\n",
            "Epoch 8/75\n",
            "1/1 [==============================] - 0s 10ms/step - loss: 2.1871 - accuracy: 0.1250\n",
            "Epoch 9/75\n",
            "1/1 [==============================] - 0s 12ms/step - loss: 2.1853 - accuracy: 0.1250\n",
            "Epoch 10/75\n",
            "1/1 [==============================] - 0s 13ms/step - loss: 2.1834 - accuracy: 0.1250\n",
            "Epoch 11/75\n",
            "1/1 [==============================] - 0s 13ms/step - loss: 2.1814 - accuracy: 0.1250\n",
            "Epoch 12/75\n",
            "1/1 [==============================] - 0s 10ms/step - loss: 2.1792 - accuracy: 0.1250\n",
            "Epoch 13/75\n",
            "1/1 [==============================] - 0s 13ms/step - loss: 2.1768 - accuracy: 0.1250\n",
            "Epoch 14/75\n",
            "1/1 [==============================] - 0s 12ms/step - loss: 2.1742 - accuracy: 0.1250\n",
            "Epoch 15/75\n",
            "1/1 [==============================] - 0s 13ms/step - loss: 2.1714 - accuracy: 0.1250\n",
            "Epoch 16/75\n",
            "1/1 [==============================] - 0s 13ms/step - loss: 2.1684 - accuracy: 0.1250\n",
            "Epoch 17/75\n",
            "1/1 [==============================] - 0s 11ms/step - loss: 2.1651 - accuracy: 0.1250\n",
            "Epoch 18/75\n",
            "1/1 [==============================] - 0s 13ms/step - loss: 2.1616 - accuracy: 0.1250\n",
            "Epoch 19/75\n",
            "1/1 [==============================] - 0s 9ms/step - loss: 2.1577 - accuracy: 0.1250\n",
            "Epoch 20/75\n",
            "1/1 [==============================] - 0s 17ms/step - loss: 2.1534 - accuracy: 0.1250\n",
            "Epoch 21/75\n",
            "1/1 [==============================] - 0s 12ms/step - loss: 2.1488 - accuracy: 0.1250\n",
            "Epoch 22/75\n",
            "1/1 [==============================] - 0s 13ms/step - loss: 2.1437 - accuracy: 0.1250\n",
            "Epoch 23/75\n",
            "1/1 [==============================] - 0s 14ms/step - loss: 2.1381 - accuracy: 0.1250\n",
            "Epoch 24/75\n",
            "1/1 [==============================] - 0s 13ms/step - loss: 2.1319 - accuracy: 0.1250\n",
            "Epoch 25/75\n",
            "1/1 [==============================] - 0s 11ms/step - loss: 2.1252 - accuracy: 0.1250\n",
            "Epoch 26/75\n",
            "1/1 [==============================] - 0s 11ms/step - loss: 2.1177 - accuracy: 0.1250\n",
            "Epoch 27/75\n",
            "1/1 [==============================] - 0s 9ms/step - loss: 2.1094 - accuracy: 0.1250\n",
            "Epoch 28/75\n",
            "1/1 [==============================] - 0s 13ms/step - loss: 2.1002 - accuracy: 0.2500\n",
            "Epoch 29/75\n",
            "1/1 [==============================] - 0s 11ms/step - loss: 2.0899 - accuracy: 0.2500\n",
            "Epoch 30/75\n",
            "1/1 [==============================] - 0s 10ms/step - loss: 2.0785 - accuracy: 0.2500\n",
            "Epoch 31/75\n",
            "1/1 [==============================] - 0s 13ms/step - loss: 2.0658 - accuracy: 0.2500\n",
            "Epoch 32/75\n",
            "1/1 [==============================] - 0s 15ms/step - loss: 2.0516 - accuracy: 0.2500\n",
            "Epoch 33/75\n",
            "1/1 [==============================] - 0s 9ms/step - loss: 2.0357 - accuracy: 0.2500\n",
            "Epoch 34/75\n",
            "1/1 [==============================] - 0s 12ms/step - loss: 2.0180 - accuracy: 0.2500\n",
            "Epoch 35/75\n",
            "1/1 [==============================] - 0s 11ms/step - loss: 1.9986 - accuracy: 0.2500\n",
            "Epoch 36/75\n",
            "1/1 [==============================] - 0s 8ms/step - loss: 1.9772 - accuracy: 0.2500\n",
            "Epoch 37/75\n",
            "1/1 [==============================] - 0s 10ms/step - loss: 1.9538 - accuracy: 0.2500\n",
            "Epoch 38/75\n",
            "1/1 [==============================] - 0s 10ms/step - loss: 1.9282 - accuracy: 0.2500\n",
            "Epoch 39/75\n",
            "1/1 [==============================] - 0s 19ms/step - loss: 1.9006 - accuracy: 0.2500\n",
            "Epoch 40/75\n",
            "1/1 [==============================] - 0s 26ms/step - loss: 1.8709 - accuracy: 0.2500\n",
            "Epoch 41/75\n",
            "1/1 [==============================] - 0s 18ms/step - loss: 1.8390 - accuracy: 0.3750\n",
            "Epoch 42/75\n",
            "1/1 [==============================] - 0s 14ms/step - loss: 1.8052 - accuracy: 0.3750\n",
            "Epoch 43/75\n",
            "1/1 [==============================] - 0s 19ms/step - loss: 1.7701 - accuracy: 0.3750\n",
            "Epoch 44/75\n",
            "1/1 [==============================] - 0s 13ms/step - loss: 1.7340 - accuracy: 0.3750\n",
            "Epoch 45/75\n",
            "1/1 [==============================] - 0s 20ms/step - loss: 1.6976 - accuracy: 0.3750\n",
            "Epoch 46/75\n",
            "1/1 [==============================] - 0s 16ms/step - loss: 1.6615 - accuracy: 0.3750\n",
            "Epoch 47/75\n",
            "1/1 [==============================] - 0s 13ms/step - loss: 1.6263 - accuracy: 0.3750\n",
            "Epoch 48/75\n",
            "1/1 [==============================] - 0s 10ms/step - loss: 1.5921 - accuracy: 0.3750\n",
            "Epoch 49/75\n",
            "1/1 [==============================] - 0s 12ms/step - loss: 1.5592 - accuracy: 0.3750\n",
            "Epoch 50/75\n",
            "1/1 [==============================] - 0s 9ms/step - loss: 1.5281 - accuracy: 0.2500\n",
            "Epoch 51/75\n",
            "1/1 [==============================] - 0s 10ms/step - loss: 1.4984 - accuracy: 0.2500\n",
            "Epoch 52/75\n",
            "1/1 [==============================] - 0s 8ms/step - loss: 1.4704 - accuracy: 0.2500\n",
            "Epoch 53/75\n",
            "1/1 [==============================] - 0s 7ms/step - loss: 1.4442 - accuracy: 0.2500\n",
            "Epoch 54/75\n",
            "1/1 [==============================] - 0s 21ms/step - loss: 1.4195 - accuracy: 0.3750\n",
            "Epoch 55/75\n",
            "1/1 [==============================] - 0s 12ms/step - loss: 1.3962 - accuracy: 0.5000\n",
            "Epoch 56/75\n",
            "1/1 [==============================] - 0s 13ms/step - loss: 1.3742 - accuracy: 0.5000\n",
            "Epoch 57/75\n",
            "1/1 [==============================] - 0s 12ms/step - loss: 1.3532 - accuracy: 0.5000\n",
            "Epoch 58/75\n",
            "1/1 [==============================] - 0s 12ms/step - loss: 1.3340 - accuracy: 0.6250\n",
            "Epoch 59/75\n",
            "1/1 [==============================] - 0s 12ms/step - loss: 1.3155 - accuracy: 0.5000\n",
            "Epoch 60/75\n",
            "1/1 [==============================] - 0s 16ms/step - loss: 1.2967 - accuracy: 0.6250\n",
            "Epoch 61/75\n",
            "1/1 [==============================] - 0s 11ms/step - loss: 1.2777 - accuracy: 0.6250\n",
            "Epoch 62/75\n",
            "1/1 [==============================] - 0s 10ms/step - loss: 1.2585 - accuracy: 0.6250\n",
            "Epoch 63/75\n",
            "1/1 [==============================] - 0s 8ms/step - loss: 1.2396 - accuracy: 0.7500\n",
            "Epoch 64/75\n",
            "1/1 [==============================] - 0s 10ms/step - loss: 1.2193 - accuracy: 0.7500\n",
            "Epoch 65/75\n",
            "1/1 [==============================] - 0s 8ms/step - loss: 1.1971 - accuracy: 0.6250\n",
            "Epoch 66/75\n",
            "1/1 [==============================] - 0s 12ms/step - loss: 1.1730 - accuracy: 0.6250\n",
            "Epoch 67/75\n",
            "1/1 [==============================] - 0s 14ms/step - loss: 1.1471 - accuracy: 0.6250\n",
            "Epoch 68/75\n",
            "1/1 [==============================] - 0s 18ms/step - loss: 1.1191 - accuracy: 0.6250\n",
            "Epoch 69/75\n",
            "1/1 [==============================] - 0s 14ms/step - loss: 1.0899 - accuracy: 0.6250\n",
            "Epoch 70/75\n",
            "1/1 [==============================] - 0s 17ms/step - loss: 1.0600 - accuracy: 0.5000\n",
            "Epoch 71/75\n",
            "1/1 [==============================] - 0s 10ms/step - loss: 1.0292 - accuracy: 0.5000\n",
            "Epoch 72/75\n",
            "1/1 [==============================] - 0s 13ms/step - loss: 0.9972 - accuracy: 0.5000\n",
            "Epoch 73/75\n",
            "1/1 [==============================] - 0s 12ms/step - loss: 0.9642 - accuracy: 0.6250\n",
            "Epoch 74/75\n",
            "1/1 [==============================] - 0s 17ms/step - loss: 0.9310 - accuracy: 0.6250\n",
            "Epoch 75/75\n",
            "1/1 [==============================] - 0s 11ms/step - loss: 0.8976 - accuracy: 0.6250\n"
          ],
          "name": "stdout"
        },
        {
          "output_type": "execute_result",
          "data": {
            "text/plain": [
              "<keras.callbacks.History at 0x7fb6b2f4ce90>"
            ]
          },
          "metadata": {
            "tags": []
          },
          "execution_count": 33
        }
      ]
    },
    {
      "cell_type": "markdown",
      "metadata": {
        "id": "xTu1qJS6HSp3"
      },
      "source": [
        "### 16. Melakukan Predict Hasil Rekomendasi "
      ]
    },
    {
      "cell_type": "code",
      "metadata": {
        "colab": {
          "base_uri": "https://localhost:8080/"
        },
        "id": "Ud8xAaZba6uu",
        "outputId": "b3877d72-54c6-455a-fc43-daa86d24c10e"
      },
      "source": [
        "predict_value = model.predict(converter.fit_transform(Y))\n",
        "predict_values = predict_value[0]\n",
        "predict_values"
      ],
      "execution_count": null,
      "outputs": [
        {
          "output_type": "execute_result",
          "data": {
            "text/plain": [
              "array([0.10069931, 0.05020173, 0.1430737 , 0.10853899, 0.13203837,\n",
              "       0.11850217, 0.1773318 , 0.15992004, 0.00969386], dtype=float32)"
            ]
          },
          "metadata": {
            "tags": []
          },
          "execution_count": 66
        }
      ]
    },
    {
      "cell_type": "code",
      "metadata": {
        "colab": {
          "base_uri": "https://localhost:8080/"
        },
        "id": "tjM_bh9Fl7jv",
        "outputId": "ce269128-d3ac-4d56-94fb-77d707cda62e"
      },
      "source": [
        "make_integer = []\n",
        "for i in range(len(predict_values)):\n",
        "    making_integer = round(predict_values[i])\n",
        "    make_integer.append(making_integer)\n",
        "make_integer\n",
        "\n",
        "what_laptop = converter.inverse_transform(make_integer)\n",
        "print(what_laptop[0])"
      ],
      "execution_count": null,
      "outputs": [
        {
          "output_type": "stream",
          "text": [
            "ASUS ROG Zephyrus S\n"
          ],
          "name": "stdout"
        }
      ]
    },
    {
      "cell_type": "markdown",
      "metadata": {
        "id": "0Sir0k3UHgTh"
      },
      "source": [
        "#### Menyimpan hasil data untuk hasil list rekomendasi"
      ]
    },
    {
      "cell_type": "code",
      "metadata": {
        "id": "OjyzU4FJ8Chp"
      },
      "source": [
        "Laptop_first_recommended = {\"Nama Laptop\" : [] , \"Brand\" : [] , \"Size\" : [] , \"Processor\" : [] , \"RAM\" : [] , \"GPU\" : [] , \"Storage\" : [] , \"Harga\" : [] , \"Link\" : []} \n",
        "\n",
        "search_justy = spek.iloc[:,0].values\n",
        "\n",
        "for searchlaptop in range(len(search_justy) + 1):\n",
        "    if what_laptop[0] == search_justy[searchlaptop]:\n",
        "        Laptop_first_recommended[\"Nama Laptop\"].append(search_justy[searchlaptop])\n",
        "        Laptop_first_recommended[\"Brand\"].append(spek.iloc[searchlaptop,1])\n",
        "        Laptop_first_recommended[\"Size\"].append(spek.iloc[searchlaptop,2])\n",
        "        Laptop_first_recommended[\"Processor\"].append(spek.iloc[searchlaptop,3])\n",
        "        Laptop_first_recommended[\"RAM\"].append(spek.iloc[searchlaptop,4])\n",
        "        Laptop_first_recommended[\"GPU\"].append(spek.iloc[searchlaptop,5])\n",
        "        Laptop_first_recommended[\"Storage\"].append(spek.iloc[searchlaptop,6])\n",
        "        Laptop_first_recommended[\"Harga\"].append(spek.iloc[searchlaptop,9])\n",
        "        Laptop_first_recommended[\"Link\"].append(spek.iloc[searchlaptop,8])\n",
        "        break\n",
        "\n",
        "data_laptop = pd.DataFrame(Laptop_first_recommended)\n",
        "data_laptop\n",
        "\n",
        "result = data_laptop.to_json(orient=\"records\")\n",
        "parsed = json.loads(result)\n",
        "json.dumps(parsed , indent = 4)\n",
        "with open('Data_rekomendasilaptop.json' , 'w') as f:\n",
        "    json.dump(parsed,f)"
      ],
      "execution_count": null,
      "outputs": []
    },
    {
      "cell_type": "code",
      "metadata": {
        "id": "qAMB9OFOH9Ax"
      },
      "source": [
        "openfile = json.loads(open('Dataset Chatbot Laptop.json').read())"
      ],
      "execution_count": null,
      "outputs": []
    }
  ]
}