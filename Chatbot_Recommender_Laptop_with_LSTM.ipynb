{
  "nbformat": 4,
  "nbformat_minor": 0,
  "metadata": {
    "colab": {
      "name": "Chatbot Recommender Laptop with LSTM.ipynb",
      "provenance": [],
      "collapsed_sections": []
    },
    "kernelspec": {
      "display_name": "Python 3",
      "name": "python3"
    },
    "language_info": {
      "name": "python"
    }
  },
  "cells": [
    {
      "cell_type": "markdown",
      "metadata": {
        "id": "T-efYJpFdltO"
      },
      "source": [
        "#Natural Language Processing Chatbot Recommender Laptop with LSTM\n",
        "\n",
        "## Steven Tjayadi / 535180085\n",
        "\n",
        "###1. Import Library NLTK"
      ]
    },
    {
      "cell_type": "code",
      "metadata": {
        "colab": {
          "base_uri": "https://localhost:8080/"
        },
        "id": "__v6VeyjF0TN",
        "outputId": "9d7051f4-2fc9-45d3-a075-aa9a1a208b24"
      },
      "source": [
        "!pip install virtualenv # Take Requirement for Library list in heroku\n",
        "!pip freeze > requirement.txt\n",
        "!pip install gunicorn # For deploying to heroku\n",
        "!pip install -r requirement.txt"
      ],
      "execution_count": 1,
      "outputs": [
        {
          "output_type": "stream",
          "text": [
            "Collecting virtualenv\n",
            "\u001b[?25l  Downloading https://files.pythonhosted.org/packages/03/08/f819421002e85a71d58368f7bffbe0b1921325e0e8ca7857cb5fb0e1f7c1/virtualenv-20.4.7-py2.py3-none-any.whl (7.2MB)\n",
            "\u001b[K     |████████████████████████████████| 7.2MB 24.1MB/s \n",
            "\u001b[?25hRequirement already satisfied: six<2,>=1.9.0 in /usr/local/lib/python3.7/dist-packages (from virtualenv) (1.15.0)\n",
            "Requirement already satisfied: appdirs<2,>=1.4.3 in /usr/local/lib/python3.7/dist-packages (from virtualenv) (1.4.4)\n",
            "Requirement already satisfied: importlib-metadata>=0.12; python_version < \"3.8\" in /usr/local/lib/python3.7/dist-packages (from virtualenv) (4.5.0)\n",
            "Requirement already satisfied: filelock<4,>=3.0.0 in /usr/local/lib/python3.7/dist-packages (from virtualenv) (3.0.12)\n",
            "Collecting distlib<1,>=0.3.1\n",
            "\u001b[?25l  Downloading https://files.pythonhosted.org/packages/87/26/f6a23dd3e578132cf924e0dd5d4e055af0cd4ab43e2a9f10b7568bfb39d9/distlib-0.3.2-py2.py3-none-any.whl (338kB)\n",
            "\u001b[K     |████████████████████████████████| 348kB 40.1MB/s \n",
            "\u001b[?25hRequirement already satisfied: zipp>=0.5 in /usr/local/lib/python3.7/dist-packages (from importlib-metadata>=0.12; python_version < \"3.8\"->virtualenv) (3.4.1)\n",
            "Requirement already satisfied: typing-extensions>=3.6.4; python_version < \"3.8\" in /usr/local/lib/python3.7/dist-packages (from importlib-metadata>=0.12; python_version < \"3.8\"->virtualenv) (3.7.4.3)\n",
            "Installing collected packages: distlib, virtualenv\n",
            "Successfully installed distlib-0.3.2 virtualenv-20.4.7\n",
            "Collecting gunicorn\n",
            "\u001b[?25l  Downloading https://files.pythonhosted.org/packages/e4/dd/5b190393e6066286773a67dfcc2f9492058e9b57c4867a95f1ba5caf0a83/gunicorn-20.1.0-py3-none-any.whl (79kB)\n",
            "\u001b[K     |████████████████████████████████| 81kB 8.6MB/s \n",
            "\u001b[?25hRequirement already satisfied: setuptools>=3.0 in /usr/local/lib/python3.7/dist-packages (from gunicorn) (57.0.0)\n",
            "Installing collected packages: gunicorn\n",
            "Successfully installed gunicorn-20.1.0\n",
            "Requirement already satisfied: absl-py==0.12.0 in /usr/local/lib/python3.7/dist-packages (from -r requirement.txt (line 1)) (0.12.0)\n",
            "Requirement already satisfied: alabaster==0.7.12 in /usr/local/lib/python3.7/dist-packages (from -r requirement.txt (line 2)) (0.7.12)\n",
            "Requirement already satisfied: albumentations==0.1.12 in /usr/local/lib/python3.7/dist-packages (from -r requirement.txt (line 3)) (0.1.12)\n",
            "Requirement already satisfied: altair==4.1.0 in /usr/local/lib/python3.7/dist-packages (from -r requirement.txt (line 4)) (4.1.0)\n",
            "Requirement already satisfied: appdirs==1.4.4 in /usr/local/lib/python3.7/dist-packages (from -r requirement.txt (line 5)) (1.4.4)\n",
            "Requirement already satisfied: argon2-cffi==20.1.0 in /usr/local/lib/python3.7/dist-packages (from -r requirement.txt (line 6)) (20.1.0)\n",
            "Requirement already satisfied: arviz==0.11.2 in /usr/local/lib/python3.7/dist-packages (from -r requirement.txt (line 7)) (0.11.2)\n",
            "Requirement already satisfied: astor==0.8.1 in /usr/local/lib/python3.7/dist-packages (from -r requirement.txt (line 8)) (0.8.1)\n",
            "Requirement already satisfied: astropy==4.2.1 in /usr/local/lib/python3.7/dist-packages (from -r requirement.txt (line 9)) (4.2.1)\n",
            "Requirement already satisfied: astunparse==1.6.3 in /usr/local/lib/python3.7/dist-packages (from -r requirement.txt (line 10)) (1.6.3)\n",
            "Requirement already satisfied: async-generator==1.10 in /usr/local/lib/python3.7/dist-packages (from -r requirement.txt (line 11)) (1.10)\n",
            "Requirement already satisfied: atari-py==0.2.9 in /usr/local/lib/python3.7/dist-packages (from -r requirement.txt (line 12)) (0.2.9)\n",
            "Requirement already satisfied: atomicwrites==1.4.0 in /usr/local/lib/python3.7/dist-packages (from -r requirement.txt (line 13)) (1.4.0)\n",
            "Requirement already satisfied: attrs==21.2.0 in /usr/local/lib/python3.7/dist-packages (from -r requirement.txt (line 14)) (21.2.0)\n",
            "Requirement already satisfied: audioread==2.1.9 in /usr/local/lib/python3.7/dist-packages (from -r requirement.txt (line 15)) (2.1.9)\n",
            "Requirement already satisfied: autograd==1.3 in /usr/local/lib/python3.7/dist-packages (from -r requirement.txt (line 16)) (1.3)\n",
            "Requirement already satisfied: Babel==2.9.1 in /usr/local/lib/python3.7/dist-packages (from -r requirement.txt (line 17)) (2.9.1)\n",
            "Requirement already satisfied: backcall==0.2.0 in /usr/local/lib/python3.7/dist-packages (from -r requirement.txt (line 18)) (0.2.0)\n",
            "Requirement already satisfied: beautifulsoup4==4.6.3 in /usr/local/lib/python3.7/dist-packages (from -r requirement.txt (line 19)) (4.6.3)\n",
            "Requirement already satisfied: bleach==3.3.0 in /usr/local/lib/python3.7/dist-packages (from -r requirement.txt (line 20)) (3.3.0)\n",
            "Requirement already satisfied: blis==0.4.1 in /usr/local/lib/python3.7/dist-packages (from -r requirement.txt (line 21)) (0.4.1)\n",
            "Requirement already satisfied: bokeh==2.3.2 in /usr/local/lib/python3.7/dist-packages (from -r requirement.txt (line 22)) (2.3.2)\n",
            "Requirement already satisfied: Bottleneck==1.3.2 in /usr/local/lib/python3.7/dist-packages (from -r requirement.txt (line 23)) (1.3.2)\n",
            "Requirement already satisfied: branca==0.4.2 in /usr/local/lib/python3.7/dist-packages (from -r requirement.txt (line 24)) (0.4.2)\n",
            "Requirement already satisfied: bs4==0.0.1 in /usr/local/lib/python3.7/dist-packages (from -r requirement.txt (line 25)) (0.0.1)\n",
            "Requirement already satisfied: CacheControl==0.12.6 in /usr/local/lib/python3.7/dist-packages (from -r requirement.txt (line 26)) (0.12.6)\n",
            "Requirement already satisfied: cached-property==1.5.2 in /usr/local/lib/python3.7/dist-packages (from -r requirement.txt (line 27)) (1.5.2)\n",
            "Requirement already satisfied: cachetools==4.2.2 in /usr/local/lib/python3.7/dist-packages (from -r requirement.txt (line 28)) (4.2.2)\n",
            "Requirement already satisfied: catalogue==1.0.0 in /usr/local/lib/python3.7/dist-packages (from -r requirement.txt (line 29)) (1.0.0)\n",
            "Requirement already satisfied: certifi==2021.5.30 in /usr/local/lib/python3.7/dist-packages (from -r requirement.txt (line 30)) (2021.5.30)\n",
            "Requirement already satisfied: cffi==1.14.5 in /usr/local/lib/python3.7/dist-packages (from -r requirement.txt (line 31)) (1.14.5)\n",
            "Requirement already satisfied: cftime==1.5.0 in /usr/local/lib/python3.7/dist-packages (from -r requirement.txt (line 32)) (1.5.0)\n",
            "Requirement already satisfied: chardet==3.0.4 in /usr/local/lib/python3.7/dist-packages (from -r requirement.txt (line 33)) (3.0.4)\n",
            "Requirement already satisfied: click==7.1.2 in /usr/local/lib/python3.7/dist-packages (from -r requirement.txt (line 34)) (7.1.2)\n",
            "Requirement already satisfied: cloudpickle==1.3.0 in /usr/local/lib/python3.7/dist-packages (from -r requirement.txt (line 35)) (1.3.0)\n",
            "Requirement already satisfied: cmake==3.12.0 in /usr/local/lib/python3.7/dist-packages (from -r requirement.txt (line 36)) (3.12.0)\n",
            "Requirement already satisfied: cmdstanpy==0.9.5 in /usr/local/lib/python3.7/dist-packages (from -r requirement.txt (line 37)) (0.9.5)\n",
            "Requirement already satisfied: colorcet==2.0.6 in /usr/local/lib/python3.7/dist-packages (from -r requirement.txt (line 38)) (2.0.6)\n",
            "Requirement already satisfied: colorlover==0.3.0 in /usr/local/lib/python3.7/dist-packages (from -r requirement.txt (line 39)) (0.3.0)\n",
            "Requirement already satisfied: community==1.0.0b1 in /usr/local/lib/python3.7/dist-packages (from -r requirement.txt (line 40)) (1.0.0b1)\n",
            "Requirement already satisfied: contextlib2==0.5.5 in /usr/local/lib/python3.7/dist-packages (from -r requirement.txt (line 41)) (0.5.5)\n",
            "Requirement already satisfied: convertdate==2.3.2 in /usr/local/lib/python3.7/dist-packages (from -r requirement.txt (line 42)) (2.3.2)\n",
            "Requirement already satisfied: coverage==3.7.1 in /usr/local/lib/python3.7/dist-packages (from -r requirement.txt (line 43)) (3.7.1)\n",
            "Requirement already satisfied: coveralls==0.5 in /usr/local/lib/python3.7/dist-packages (from -r requirement.txt (line 44)) (0.5)\n",
            "Requirement already satisfied: crcmod==1.7 in /usr/local/lib/python3.7/dist-packages (from -r requirement.txt (line 45)) (1.7)\n",
            "Requirement already satisfied: cufflinks==0.17.3 in /usr/local/lib/python3.7/dist-packages (from -r requirement.txt (line 46)) (0.17.3)\n",
            "Requirement already satisfied: cvxopt==1.2.6 in /usr/local/lib/python3.7/dist-packages (from -r requirement.txt (line 47)) (1.2.6)\n",
            "Requirement already satisfied: cvxpy==1.0.31 in /usr/local/lib/python3.7/dist-packages (from -r requirement.txt (line 48)) (1.0.31)\n",
            "Requirement already satisfied: cycler==0.10.0 in /usr/local/lib/python3.7/dist-packages (from -r requirement.txt (line 49)) (0.10.0)\n",
            "Requirement already satisfied: cymem==2.0.5 in /usr/local/lib/python3.7/dist-packages (from -r requirement.txt (line 50)) (2.0.5)\n",
            "Requirement already satisfied: Cython==0.29.23 in /usr/local/lib/python3.7/dist-packages (from -r requirement.txt (line 51)) (0.29.23)\n",
            "Requirement already satisfied: daft==0.0.4 in /usr/local/lib/python3.7/dist-packages (from -r requirement.txt (line 52)) (0.0.4)\n",
            "Requirement already satisfied: dask==2.12.0 in /usr/local/lib/python3.7/dist-packages (from -r requirement.txt (line 53)) (2.12.0)\n",
            "Requirement already satisfied: datascience==0.10.6 in /usr/local/lib/python3.7/dist-packages (from -r requirement.txt (line 54)) (0.10.6)\n",
            "Requirement already satisfied: debugpy==1.0.0 in /usr/local/lib/python3.7/dist-packages (from -r requirement.txt (line 55)) (1.0.0)\n",
            "Requirement already satisfied: decorator==4.4.2 in /usr/local/lib/python3.7/dist-packages (from -r requirement.txt (line 56)) (4.4.2)\n",
            "Requirement already satisfied: defusedxml==0.7.1 in /usr/local/lib/python3.7/dist-packages (from -r requirement.txt (line 57)) (0.7.1)\n",
            "Requirement already satisfied: descartes==1.1.0 in /usr/local/lib/python3.7/dist-packages (from -r requirement.txt (line 58)) (1.1.0)\n",
            "Requirement already satisfied: dill==0.3.3 in /usr/local/lib/python3.7/dist-packages (from -r requirement.txt (line 59)) (0.3.3)\n",
            "Requirement already satisfied: distlib==0.3.2 in /usr/local/lib/python3.7/dist-packages (from -r requirement.txt (line 60)) (0.3.2)\n",
            "Requirement already satisfied: distributed==1.25.3 in /usr/local/lib/python3.7/dist-packages (from -r requirement.txt (line 61)) (1.25.3)\n",
            "Requirement already satisfied: dlib==19.18.0 in /usr/local/lib/python3.7/dist-packages (from -r requirement.txt (line 62)) (19.18.0)\n",
            "Requirement already satisfied: dm-tree==0.1.6 in /usr/local/lib/python3.7/dist-packages (from -r requirement.txt (line 63)) (0.1.6)\n",
            "Requirement already satisfied: docopt==0.6.2 in /usr/local/lib/python3.7/dist-packages (from -r requirement.txt (line 64)) (0.6.2)\n",
            "Requirement already satisfied: docutils==0.17.1 in /usr/local/lib/python3.7/dist-packages (from -r requirement.txt (line 65)) (0.17.1)\n",
            "Requirement already satisfied: dopamine-rl==1.0.5 in /usr/local/lib/python3.7/dist-packages (from -r requirement.txt (line 66)) (1.0.5)\n",
            "Requirement already satisfied: earthengine-api==0.1.269 in /usr/local/lib/python3.7/dist-packages (from -r requirement.txt (line 67)) (0.1.269)\n",
            "Requirement already satisfied: easydict==1.9 in /usr/local/lib/python3.7/dist-packages (from -r requirement.txt (line 68)) (1.9)\n",
            "Requirement already satisfied: ecos==2.0.7.post1 in /usr/local/lib/python3.7/dist-packages (from -r requirement.txt (line 69)) (2.0.7.post1)\n",
            "Requirement already satisfied: editdistance==0.5.3 in /usr/local/lib/python3.7/dist-packages (from -r requirement.txt (line 70)) (0.5.3)\n",
            "Requirement already satisfied: en-core-web-sm==2.2.5 in /usr/local/lib/python3.7/dist-packages (from -r requirement.txt (line 71)) (2.2.5)\n",
            "Requirement already satisfied: entrypoints==0.3 in /usr/local/lib/python3.7/dist-packages (from -r requirement.txt (line 72)) (0.3)\n",
            "Requirement already satisfied: ephem==3.7.7.1 in /usr/local/lib/python3.7/dist-packages (from -r requirement.txt (line 73)) (3.7.7.1)\n",
            "Requirement already satisfied: et-xmlfile==1.1.0 in /usr/local/lib/python3.7/dist-packages (from -r requirement.txt (line 74)) (1.1.0)\n",
            "Requirement already satisfied: fa2==0.3.5 in /usr/local/lib/python3.7/dist-packages (from -r requirement.txt (line 75)) (0.3.5)\n",
            "Requirement already satisfied: fastai==1.0.61 in /usr/local/lib/python3.7/dist-packages (from -r requirement.txt (line 76)) (1.0.61)\n",
            "Requirement already satisfied: fastdtw==0.3.4 in /usr/local/lib/python3.7/dist-packages (from -r requirement.txt (line 77)) (0.3.4)\n",
            "Requirement already satisfied: fastprogress==1.0.0 in /usr/local/lib/python3.7/dist-packages (from -r requirement.txt (line 78)) (1.0.0)\n",
            "Requirement already satisfied: fastrlock==0.6 in /usr/local/lib/python3.7/dist-packages (from -r requirement.txt (line 79)) (0.6)\n",
            "Requirement already satisfied: fbprophet==0.7.1 in /usr/local/lib/python3.7/dist-packages (from -r requirement.txt (line 80)) (0.7.1)\n",
            "Requirement already satisfied: feather-format==0.4.1 in /usr/local/lib/python3.7/dist-packages (from -r requirement.txt (line 81)) (0.4.1)\n",
            "Requirement already satisfied: filelock==3.0.12 in /usr/local/lib/python3.7/dist-packages (from -r requirement.txt (line 82)) (3.0.12)\n",
            "Requirement already satisfied: firebase-admin==4.4.0 in /usr/local/lib/python3.7/dist-packages (from -r requirement.txt (line 83)) (4.4.0)\n",
            "Requirement already satisfied: fix-yahoo-finance==0.0.22 in /usr/local/lib/python3.7/dist-packages (from -r requirement.txt (line 84)) (0.0.22)\n",
            "Requirement already satisfied: Flask==1.1.4 in /usr/local/lib/python3.7/dist-packages (from -r requirement.txt (line 85)) (1.1.4)\n",
            "Requirement already satisfied: flatbuffers==1.12 in /usr/local/lib/python3.7/dist-packages (from -r requirement.txt (line 86)) (1.12)\n",
            "Requirement already satisfied: folium==0.8.3 in /usr/local/lib/python3.7/dist-packages (from -r requirement.txt (line 87)) (0.8.3)\n",
            "Requirement already satisfied: future==0.16.0 in /usr/local/lib/python3.7/dist-packages (from -r requirement.txt (line 88)) (0.16.0)\n",
            "Requirement already satisfied: gast==0.4.0 in /usr/local/lib/python3.7/dist-packages (from -r requirement.txt (line 89)) (0.4.0)\n",
            "Requirement already satisfied: GDAL==2.2.2 in /usr/local/lib/python3.7/dist-packages (from -r requirement.txt (line 90)) (2.2.2)\n",
            "Requirement already satisfied: gdown==3.6.4 in /usr/local/lib/python3.7/dist-packages (from -r requirement.txt (line 91)) (3.6.4)\n",
            "Requirement already satisfied: gensim==3.6.0 in /usr/local/lib/python3.7/dist-packages (from -r requirement.txt (line 92)) (3.6.0)\n",
            "Requirement already satisfied: geographiclib==1.50 in /usr/local/lib/python3.7/dist-packages (from -r requirement.txt (line 93)) (1.50)\n",
            "Requirement already satisfied: geopy==1.17.0 in /usr/local/lib/python3.7/dist-packages (from -r requirement.txt (line 94)) (1.17.0)\n",
            "Requirement already satisfied: gin-config==0.4.0 in /usr/local/lib/python3.7/dist-packages (from -r requirement.txt (line 95)) (0.4.0)\n",
            "Requirement already satisfied: glob2==0.7 in /usr/local/lib/python3.7/dist-packages (from -r requirement.txt (line 96)) (0.7)\n",
            "Requirement already satisfied: google==2.0.3 in /usr/local/lib/python3.7/dist-packages (from -r requirement.txt (line 97)) (2.0.3)\n",
            "Requirement already satisfied: google-api-core==1.26.3 in /usr/local/lib/python3.7/dist-packages (from -r requirement.txt (line 98)) (1.26.3)\n",
            "Requirement already satisfied: google-api-python-client==1.12.8 in /usr/local/lib/python3.7/dist-packages (from -r requirement.txt (line 99)) (1.12.8)\n",
            "Requirement already satisfied: google-auth==1.31.0 in /usr/local/lib/python3.7/dist-packages (from -r requirement.txt (line 100)) (1.31.0)\n",
            "Requirement already satisfied: google-auth-httplib2==0.0.4 in /usr/local/lib/python3.7/dist-packages (from -r requirement.txt (line 101)) (0.0.4)\n",
            "Requirement already satisfied: google-auth-oauthlib==0.4.4 in /usr/local/lib/python3.7/dist-packages (from -r requirement.txt (line 102)) (0.4.4)\n",
            "Requirement already satisfied: google-cloud-bigquery==1.21.0 in /usr/local/lib/python3.7/dist-packages (from -r requirement.txt (line 103)) (1.21.0)\n",
            "Requirement already satisfied: google-cloud-bigquery-storage==1.1.0 in /usr/local/lib/python3.7/dist-packages (from -r requirement.txt (line 104)) (1.1.0)\n",
            "Requirement already satisfied: google-cloud-core==1.0.3 in /usr/local/lib/python3.7/dist-packages (from -r requirement.txt (line 105)) (1.0.3)\n",
            "Requirement already satisfied: google-cloud-datastore==1.8.0 in /usr/local/lib/python3.7/dist-packages (from -r requirement.txt (line 106)) (1.8.0)\n",
            "Requirement already satisfied: google-cloud-firestore==1.7.0 in /usr/local/lib/python3.7/dist-packages (from -r requirement.txt (line 107)) (1.7.0)\n",
            "Requirement already satisfied: google-cloud-language==1.2.0 in /usr/local/lib/python3.7/dist-packages (from -r requirement.txt (line 108)) (1.2.0)\n",
            "Requirement already satisfied: google-cloud-storage==1.18.1 in /usr/local/lib/python3.7/dist-packages (from -r requirement.txt (line 109)) (1.18.1)\n",
            "Requirement already satisfied: google-cloud-translate==1.5.0 in /usr/local/lib/python3.7/dist-packages (from -r requirement.txt (line 110)) (1.5.0)\n",
            "Requirement already satisfied: google-colab==1.0.0 in /usr/local/lib/python3.7/dist-packages (from -r requirement.txt (line 111)) (1.0.0)\n",
            "Requirement already satisfied: google-pasta==0.2.0 in /usr/local/lib/python3.7/dist-packages (from -r requirement.txt (line 112)) (0.2.0)\n",
            "Requirement already satisfied: google-resumable-media==0.4.1 in /usr/local/lib/python3.7/dist-packages (from -r requirement.txt (line 113)) (0.4.1)\n",
            "Requirement already satisfied: googleapis-common-protos==1.53.0 in /usr/local/lib/python3.7/dist-packages (from -r requirement.txt (line 114)) (1.53.0)\n",
            "Requirement already satisfied: googledrivedownloader==0.4 in /usr/local/lib/python3.7/dist-packages (from -r requirement.txt (line 115)) (0.4)\n",
            "Requirement already satisfied: graphviz==0.10.1 in /usr/local/lib/python3.7/dist-packages (from -r requirement.txt (line 116)) (0.10.1)\n",
            "Requirement already satisfied: greenlet==1.1.0 in /usr/local/lib/python3.7/dist-packages (from -r requirement.txt (line 117)) (1.1.0)\n",
            "Requirement already satisfied: grpcio==1.34.1 in /usr/local/lib/python3.7/dist-packages (from -r requirement.txt (line 118)) (1.34.1)\n",
            "Requirement already satisfied: gspread==3.0.1 in /usr/local/lib/python3.7/dist-packages (from -r requirement.txt (line 119)) (3.0.1)\n",
            "Requirement already satisfied: gspread-dataframe==3.0.8 in /usr/local/lib/python3.7/dist-packages (from -r requirement.txt (line 120)) (3.0.8)\n",
            "Requirement already satisfied: gym==0.17.3 in /usr/local/lib/python3.7/dist-packages (from -r requirement.txt (line 121)) (0.17.3)\n",
            "Requirement already satisfied: h5py==3.1.0 in /usr/local/lib/python3.7/dist-packages (from -r requirement.txt (line 122)) (3.1.0)\n",
            "Requirement already satisfied: HeapDict==1.0.1 in /usr/local/lib/python3.7/dist-packages (from -r requirement.txt (line 123)) (1.0.1)\n",
            "Requirement already satisfied: hijri-converter==2.1.2 in /usr/local/lib/python3.7/dist-packages (from -r requirement.txt (line 124)) (2.1.2)\n",
            "Requirement already satisfied: holidays==0.10.5.2 in /usr/local/lib/python3.7/dist-packages (from -r requirement.txt (line 125)) (0.10.5.2)\n",
            "Requirement already satisfied: holoviews==1.14.4 in /usr/local/lib/python3.7/dist-packages (from -r requirement.txt (line 126)) (1.14.4)\n",
            "Requirement already satisfied: html5lib==1.0.1 in /usr/local/lib/python3.7/dist-packages (from -r requirement.txt (line 127)) (1.0.1)\n",
            "Requirement already satisfied: httpimport==0.5.18 in /usr/local/lib/python3.7/dist-packages (from -r requirement.txt (line 128)) (0.5.18)\n",
            "Requirement already satisfied: httplib2==0.17.4 in /usr/local/lib/python3.7/dist-packages (from -r requirement.txt (line 129)) (0.17.4)\n",
            "Requirement already satisfied: httplib2shim==0.0.3 in /usr/local/lib/python3.7/dist-packages (from -r requirement.txt (line 130)) (0.0.3)\n",
            "Requirement already satisfied: humanize==0.5.1 in /usr/local/lib/python3.7/dist-packages (from -r requirement.txt (line 131)) (0.5.1)\n",
            "Requirement already satisfied: hyperopt==0.1.2 in /usr/local/lib/python3.7/dist-packages (from -r requirement.txt (line 132)) (0.1.2)\n",
            "Requirement already satisfied: ideep4py==2.0.0.post3 in /usr/local/lib/python3.7/dist-packages (from -r requirement.txt (line 133)) (2.0.0.post3)\n",
            "Requirement already satisfied: idna==2.10 in /usr/local/lib/python3.7/dist-packages (from -r requirement.txt (line 134)) (2.10)\n",
            "Requirement already satisfied: imageio==2.4.1 in /usr/local/lib/python3.7/dist-packages (from -r requirement.txt (line 135)) (2.4.1)\n",
            "Requirement already satisfied: imagesize==1.2.0 in /usr/local/lib/python3.7/dist-packages (from -r requirement.txt (line 136)) (1.2.0)\n",
            "Requirement already satisfied: imbalanced-learn==0.4.3 in /usr/local/lib/python3.7/dist-packages (from -r requirement.txt (line 137)) (0.4.3)\n",
            "Requirement already satisfied: imblearn==0.0 in /usr/local/lib/python3.7/dist-packages (from -r requirement.txt (line 138)) (0.0)\n",
            "Requirement already satisfied: imgaug==0.2.9 in /usr/local/lib/python3.7/dist-packages (from -r requirement.txt (line 139)) (0.2.9)\n",
            "Requirement already satisfied: importlib-metadata==4.5.0 in /usr/local/lib/python3.7/dist-packages (from -r requirement.txt (line 140)) (4.5.0)\n",
            "Requirement already satisfied: importlib-resources==5.1.4 in /usr/local/lib/python3.7/dist-packages (from -r requirement.txt (line 141)) (5.1.4)\n",
            "Requirement already satisfied: imutils==0.5.4 in /usr/local/lib/python3.7/dist-packages (from -r requirement.txt (line 142)) (0.5.4)\n",
            "Requirement already satisfied: inflect==2.1.0 in /usr/local/lib/python3.7/dist-packages (from -r requirement.txt (line 143)) (2.1.0)\n",
            "Requirement already satisfied: iniconfig==1.1.1 in /usr/local/lib/python3.7/dist-packages (from -r requirement.txt (line 144)) (1.1.1)\n",
            "Requirement already satisfied: install==1.3.4 in /usr/local/lib/python3.7/dist-packages (from -r requirement.txt (line 145)) (1.3.4)\n",
            "Requirement already satisfied: intel-openmp==2021.2.0 in /usr/local/lib/python3.7/dist-packages (from -r requirement.txt (line 146)) (2021.2.0)\n",
            "Requirement already satisfied: intervaltree==2.1.0 in /usr/local/lib/python3.7/dist-packages (from -r requirement.txt (line 147)) (2.1.0)\n",
            "Requirement already satisfied: ipykernel==4.10.1 in /usr/local/lib/python3.7/dist-packages (from -r requirement.txt (line 148)) (4.10.1)\n",
            "Requirement already satisfied: ipython==5.5.0 in /usr/local/lib/python3.7/dist-packages (from -r requirement.txt (line 149)) (5.5.0)\n",
            "Requirement already satisfied: ipython-genutils==0.2.0 in /usr/local/lib/python3.7/dist-packages (from -r requirement.txt (line 150)) (0.2.0)\n",
            "Requirement already satisfied: ipython-sql==0.3.9 in /usr/local/lib/python3.7/dist-packages (from -r requirement.txt (line 151)) (0.3.9)\n",
            "Requirement already satisfied: ipywidgets==7.6.3 in /usr/local/lib/python3.7/dist-packages (from -r requirement.txt (line 152)) (7.6.3)\n",
            "Requirement already satisfied: itsdangerous==1.1.0 in /usr/local/lib/python3.7/dist-packages (from -r requirement.txt (line 153)) (1.1.0)\n",
            "Requirement already satisfied: jax==0.2.13 in /usr/local/lib/python3.7/dist-packages (from -r requirement.txt (line 154)) (0.2.13)\n",
            "Requirement already satisfied: jaxlib==0.1.66+cuda110 in /usr/local/lib/python3.7/dist-packages (from -r requirement.txt (line 155)) (0.1.66+cuda110)\n",
            "Requirement already satisfied: jdcal==1.4.1 in /usr/local/lib/python3.7/dist-packages (from -r requirement.txt (line 156)) (1.4.1)\n",
            "Requirement already satisfied: jedi==0.18.0 in /usr/local/lib/python3.7/dist-packages (from -r requirement.txt (line 157)) (0.18.0)\n",
            "Requirement already satisfied: jieba==0.42.1 in /usr/local/lib/python3.7/dist-packages (from -r requirement.txt (line 158)) (0.42.1)\n",
            "Requirement already satisfied: Jinja2==2.11.3 in /usr/local/lib/python3.7/dist-packages (from -r requirement.txt (line 159)) (2.11.3)\n",
            "Requirement already satisfied: joblib==1.0.1 in /usr/local/lib/python3.7/dist-packages (from -r requirement.txt (line 160)) (1.0.1)\n",
            "Requirement already satisfied: jpeg4py==0.1.4 in /usr/local/lib/python3.7/dist-packages (from -r requirement.txt (line 161)) (0.1.4)\n",
            "Requirement already satisfied: jsonschema==2.6.0 in /usr/local/lib/python3.7/dist-packages (from -r requirement.txt (line 162)) (2.6.0)\n",
            "Requirement already satisfied: jupyter==1.0.0 in /usr/local/lib/python3.7/dist-packages (from -r requirement.txt (line 163)) (1.0.0)\n",
            "Requirement already satisfied: jupyter-client==5.3.5 in /usr/local/lib/python3.7/dist-packages (from -r requirement.txt (line 164)) (5.3.5)\n",
            "Requirement already satisfied: jupyter-console==5.2.0 in /usr/local/lib/python3.7/dist-packages (from -r requirement.txt (line 165)) (5.2.0)\n",
            "Requirement already satisfied: jupyter-core==4.7.1 in /usr/local/lib/python3.7/dist-packages (from -r requirement.txt (line 166)) (4.7.1)\n",
            "Requirement already satisfied: jupyterlab-pygments==0.1.2 in /usr/local/lib/python3.7/dist-packages (from -r requirement.txt (line 167)) (0.1.2)\n",
            "Requirement already satisfied: jupyterlab-widgets==1.0.0 in /usr/local/lib/python3.7/dist-packages (from -r requirement.txt (line 168)) (1.0.0)\n",
            "Requirement already satisfied: kaggle==1.5.12 in /usr/local/lib/python3.7/dist-packages (from -r requirement.txt (line 169)) (1.5.12)\n",
            "Requirement already satisfied: kapre==0.3.5 in /usr/local/lib/python3.7/dist-packages (from -r requirement.txt (line 170)) (0.3.5)\n",
            "Requirement already satisfied: Keras==2.4.3 in /usr/local/lib/python3.7/dist-packages (from -r requirement.txt (line 171)) (2.4.3)\n",
            "Requirement already satisfied: keras-nightly==2.5.0.dev2021032900 in /usr/local/lib/python3.7/dist-packages (from -r requirement.txt (line 172)) (2.5.0.dev2021032900)\n",
            "Requirement already satisfied: Keras-Preprocessing==1.1.2 in /usr/local/lib/python3.7/dist-packages (from -r requirement.txt (line 173)) (1.1.2)\n",
            "Requirement already satisfied: keras-vis==0.4.1 in /usr/local/lib/python3.7/dist-packages (from -r requirement.txt (line 174)) (0.4.1)\n",
            "Requirement already satisfied: kiwisolver==1.3.1 in /usr/local/lib/python3.7/dist-packages (from -r requirement.txt (line 175)) (1.3.1)\n",
            "Requirement already satisfied: korean-lunar-calendar==0.2.1 in /usr/local/lib/python3.7/dist-packages (from -r requirement.txt (line 176)) (0.2.1)\n",
            "Requirement already satisfied: librosa==0.8.1 in /usr/local/lib/python3.7/dist-packages (from -r requirement.txt (line 177)) (0.8.1)\n",
            "Requirement already satisfied: lightgbm==2.2.3 in /usr/local/lib/python3.7/dist-packages (from -r requirement.txt (line 178)) (2.2.3)\n",
            "Requirement already satisfied: llvmlite==0.34.0 in /usr/local/lib/python3.7/dist-packages (from -r requirement.txt (line 179)) (0.34.0)\n",
            "Requirement already satisfied: lmdb==0.99 in /usr/local/lib/python3.7/dist-packages (from -r requirement.txt (line 180)) (0.99)\n",
            "Requirement already satisfied: LunarCalendar==0.0.9 in /usr/local/lib/python3.7/dist-packages (from -r requirement.txt (line 181)) (0.0.9)\n",
            "Requirement already satisfied: lxml==4.2.6 in /usr/local/lib/python3.7/dist-packages (from -r requirement.txt (line 182)) (4.2.6)\n",
            "Requirement already satisfied: Markdown==3.3.4 in /usr/local/lib/python3.7/dist-packages (from -r requirement.txt (line 183)) (3.3.4)\n",
            "Requirement already satisfied: MarkupSafe==2.0.1 in /usr/local/lib/python3.7/dist-packages (from -r requirement.txt (line 184)) (2.0.1)\n",
            "Requirement already satisfied: matplotlib==3.2.2 in /usr/local/lib/python3.7/dist-packages (from -r requirement.txt (line 185)) (3.2.2)\n",
            "Requirement already satisfied: matplotlib-inline==0.1.2 in /usr/local/lib/python3.7/dist-packages (from -r requirement.txt (line 186)) (0.1.2)\n",
            "Requirement already satisfied: matplotlib-venn==0.11.6 in /usr/local/lib/python3.7/dist-packages (from -r requirement.txt (line 187)) (0.11.6)\n",
            "Requirement already satisfied: missingno==0.4.2 in /usr/local/lib/python3.7/dist-packages (from -r requirement.txt (line 188)) (0.4.2)\n",
            "Requirement already satisfied: mistune==0.8.4 in /usr/local/lib/python3.7/dist-packages (from -r requirement.txt (line 189)) (0.8.4)\n",
            "Requirement already satisfied: mizani==0.6.0 in /usr/local/lib/python3.7/dist-packages (from -r requirement.txt (line 190)) (0.6.0)\n",
            "Requirement already satisfied: mkl==2019.0 in /usr/local/lib/python3.7/dist-packages (from -r requirement.txt (line 191)) (2019.0)\n",
            "Requirement already satisfied: mlxtend==0.14.0 in /usr/local/lib/python3.7/dist-packages (from -r requirement.txt (line 192)) (0.14.0)\n",
            "Requirement already satisfied: more-itertools==8.8.0 in /usr/local/lib/python3.7/dist-packages (from -r requirement.txt (line 193)) (8.8.0)\n",
            "Requirement already satisfied: moviepy==0.2.3.5 in /usr/local/lib/python3.7/dist-packages (from -r requirement.txt (line 194)) (0.2.3.5)\n",
            "Requirement already satisfied: mpmath==1.2.1 in /usr/local/lib/python3.7/dist-packages (from -r requirement.txt (line 195)) (1.2.1)\n",
            "Requirement already satisfied: msgpack==1.0.2 in /usr/local/lib/python3.7/dist-packages (from -r requirement.txt (line 196)) (1.0.2)\n",
            "Requirement already satisfied: multiprocess==0.70.11.1 in /usr/local/lib/python3.7/dist-packages (from -r requirement.txt (line 197)) (0.70.11.1)\n",
            "Requirement already satisfied: multitasking==0.0.9 in /usr/local/lib/python3.7/dist-packages (from -r requirement.txt (line 198)) (0.0.9)\n",
            "Requirement already satisfied: murmurhash==1.0.5 in /usr/local/lib/python3.7/dist-packages (from -r requirement.txt (line 199)) (1.0.5)\n",
            "Requirement already satisfied: music21==5.5.0 in /usr/local/lib/python3.7/dist-packages (from -r requirement.txt (line 200)) (5.5.0)\n",
            "Requirement already satisfied: natsort==5.5.0 in /usr/local/lib/python3.7/dist-packages (from -r requirement.txt (line 201)) (5.5.0)\n",
            "Requirement already satisfied: nbclient==0.5.3 in /usr/local/lib/python3.7/dist-packages (from -r requirement.txt (line 202)) (0.5.3)\n",
            "Requirement already satisfied: nbconvert==5.6.1 in /usr/local/lib/python3.7/dist-packages (from -r requirement.txt (line 203)) (5.6.1)\n",
            "Requirement already satisfied: nbformat==5.1.3 in /usr/local/lib/python3.7/dist-packages (from -r requirement.txt (line 204)) (5.1.3)\n",
            "Requirement already satisfied: nest-asyncio==1.5.1 in /usr/local/lib/python3.7/dist-packages (from -r requirement.txt (line 205)) (1.5.1)\n",
            "Requirement already satisfied: netCDF4==1.5.6 in /usr/local/lib/python3.7/dist-packages (from -r requirement.txt (line 206)) (1.5.6)\n",
            "Requirement already satisfied: networkx==2.5.1 in /usr/local/lib/python3.7/dist-packages (from -r requirement.txt (line 207)) (2.5.1)\n",
            "Requirement already satisfied: nibabel==3.0.2 in /usr/local/lib/python3.7/dist-packages (from -r requirement.txt (line 208)) (3.0.2)\n",
            "Requirement already satisfied: nltk==3.2.5 in /usr/local/lib/python3.7/dist-packages (from -r requirement.txt (line 209)) (3.2.5)\n",
            "Requirement already satisfied: notebook==5.3.1 in /usr/local/lib/python3.7/dist-packages (from -r requirement.txt (line 210)) (5.3.1)\n",
            "Requirement already satisfied: numba==0.51.2 in /usr/local/lib/python3.7/dist-packages (from -r requirement.txt (line 211)) (0.51.2)\n",
            "Requirement already satisfied: numexpr==2.7.3 in /usr/local/lib/python3.7/dist-packages (from -r requirement.txt (line 212)) (2.7.3)\n",
            "Requirement already satisfied: numpy==1.19.5 in /usr/local/lib/python3.7/dist-packages (from -r requirement.txt (line 213)) (1.19.5)\n",
            "Requirement already satisfied: nvidia-ml-py3==7.352.0 in /usr/local/lib/python3.7/dist-packages (from -r requirement.txt (line 214)) (7.352.0)\n",
            "Requirement already satisfied: oauth2client==4.1.3 in /usr/local/lib/python3.7/dist-packages (from -r requirement.txt (line 215)) (4.1.3)\n",
            "Requirement already satisfied: oauthlib==3.1.1 in /usr/local/lib/python3.7/dist-packages (from -r requirement.txt (line 216)) (3.1.1)\n",
            "Requirement already satisfied: okgrade==0.4.3 in /usr/local/lib/python3.7/dist-packages (from -r requirement.txt (line 217)) (0.4.3)\n",
            "Requirement already satisfied: opencv-contrib-python==4.1.2.30 in /usr/local/lib/python3.7/dist-packages (from -r requirement.txt (line 218)) (4.1.2.30)\n",
            "Requirement already satisfied: opencv-python==4.1.2.30 in /usr/local/lib/python3.7/dist-packages (from -r requirement.txt (line 219)) (4.1.2.30)\n",
            "Requirement already satisfied: openpyxl==2.5.9 in /usr/local/lib/python3.7/dist-packages (from -r requirement.txt (line 220)) (2.5.9)\n",
            "Requirement already satisfied: opt-einsum==3.3.0 in /usr/local/lib/python3.7/dist-packages (from -r requirement.txt (line 221)) (3.3.0)\n",
            "Requirement already satisfied: osqp==0.6.2.post0 in /usr/local/lib/python3.7/dist-packages (from -r requirement.txt (line 222)) (0.6.2.post0)\n",
            "Requirement already satisfied: packaging==20.9 in /usr/local/lib/python3.7/dist-packages (from -r requirement.txt (line 223)) (20.9)\n",
            "Requirement already satisfied: palettable==3.3.0 in /usr/local/lib/python3.7/dist-packages (from -r requirement.txt (line 224)) (3.3.0)\n",
            "Requirement already satisfied: pandas==1.1.5 in /usr/local/lib/python3.7/dist-packages (from -r requirement.txt (line 225)) (1.1.5)\n",
            "Requirement already satisfied: pandas-datareader==0.9.0 in /usr/local/lib/python3.7/dist-packages (from -r requirement.txt (line 226)) (0.9.0)\n",
            "Requirement already satisfied: pandas-gbq==0.13.3 in /usr/local/lib/python3.7/dist-packages (from -r requirement.txt (line 227)) (0.13.3)\n",
            "Requirement already satisfied: pandas-profiling==1.4.1 in /usr/local/lib/python3.7/dist-packages (from -r requirement.txt (line 228)) (1.4.1)\n",
            "Requirement already satisfied: pandocfilters==1.4.3 in /usr/local/lib/python3.7/dist-packages (from -r requirement.txt (line 229)) (1.4.3)\n",
            "Requirement already satisfied: panel==0.11.3 in /usr/local/lib/python3.7/dist-packages (from -r requirement.txt (line 230)) (0.11.3)\n",
            "Requirement already satisfied: param==1.10.1 in /usr/local/lib/python3.7/dist-packages (from -r requirement.txt (line 231)) (1.10.1)\n",
            "Requirement already satisfied: parso==0.8.2 in /usr/local/lib/python3.7/dist-packages (from -r requirement.txt (line 232)) (0.8.2)\n",
            "Requirement already satisfied: pathlib==1.0.1 in /usr/local/lib/python3.7/dist-packages (from -r requirement.txt (line 233)) (1.0.1)\n",
            "Requirement already satisfied: patsy==0.5.1 in /usr/local/lib/python3.7/dist-packages (from -r requirement.txt (line 234)) (0.5.1)\n",
            "Requirement already satisfied: pexpect==4.8.0 in /usr/local/lib/python3.7/dist-packages (from -r requirement.txt (line 235)) (4.8.0)\n",
            "Requirement already satisfied: pickleshare==0.7.5 in /usr/local/lib/python3.7/dist-packages (from -r requirement.txt (line 236)) (0.7.5)\n",
            "Requirement already satisfied: Pillow==7.1.2 in /usr/local/lib/python3.7/dist-packages (from -r requirement.txt (line 237)) (7.1.2)\n",
            "Requirement already satisfied: pip-tools==4.5.1 in /usr/local/lib/python3.7/dist-packages (from -r requirement.txt (line 238)) (4.5.1)\n",
            "Requirement already satisfied: plac==1.1.3 in /usr/local/lib/python3.7/dist-packages (from -r requirement.txt (line 239)) (1.1.3)\n",
            "Requirement already satisfied: plotly==4.4.1 in /usr/local/lib/python3.7/dist-packages (from -r requirement.txt (line 240)) (4.4.1)\n",
            "Requirement already satisfied: plotnine==0.6.0 in /usr/local/lib/python3.7/dist-packages (from -r requirement.txt (line 241)) (0.6.0)\n",
            "Requirement already satisfied: pluggy==0.7.1 in /usr/local/lib/python3.7/dist-packages (from -r requirement.txt (line 242)) (0.7.1)\n",
            "Requirement already satisfied: pooch==1.4.0 in /usr/local/lib/python3.7/dist-packages (from -r requirement.txt (line 243)) (1.4.0)\n",
            "Requirement already satisfied: portpicker==1.3.9 in /usr/local/lib/python3.7/dist-packages (from -r requirement.txt (line 244)) (1.3.9)\n",
            "Requirement already satisfied: prefetch-generator==1.0.1 in /usr/local/lib/python3.7/dist-packages (from -r requirement.txt (line 245)) (1.0.1)\n",
            "Requirement already satisfied: preshed==3.0.5 in /usr/local/lib/python3.7/dist-packages (from -r requirement.txt (line 246)) (3.0.5)\n",
            "Requirement already satisfied: prettytable==2.1.0 in /usr/local/lib/python3.7/dist-packages (from -r requirement.txt (line 247)) (2.1.0)\n",
            "Requirement already satisfied: progressbar2==3.38.0 in /usr/local/lib/python3.7/dist-packages (from -r requirement.txt (line 248)) (3.38.0)\n",
            "Requirement already satisfied: prometheus-client==0.11.0 in /usr/local/lib/python3.7/dist-packages (from -r requirement.txt (line 249)) (0.11.0)\n",
            "Requirement already satisfied: promise==2.3 in /usr/local/lib/python3.7/dist-packages (from -r requirement.txt (line 250)) (2.3)\n",
            "Requirement already satisfied: prompt-toolkit==1.0.18 in /usr/local/lib/python3.7/dist-packages (from -r requirement.txt (line 251)) (1.0.18)\n",
            "Requirement already satisfied: protobuf==3.12.4 in /usr/local/lib/python3.7/dist-packages (from -r requirement.txt (line 252)) (3.12.4)\n",
            "Requirement already satisfied: psutil==5.4.8 in /usr/local/lib/python3.7/dist-packages (from -r requirement.txt (line 253)) (5.4.8)\n",
            "Requirement already satisfied: psycopg2==2.7.6.1 in /usr/local/lib/python3.7/dist-packages (from -r requirement.txt (line 254)) (2.7.6.1)\n",
            "Requirement already satisfied: ptyprocess==0.7.0 in /usr/local/lib/python3.7/dist-packages (from -r requirement.txt (line 255)) (0.7.0)\n",
            "Requirement already satisfied: py==1.10.0 in /usr/local/lib/python3.7/dist-packages (from -r requirement.txt (line 256)) (1.10.0)\n",
            "Requirement already satisfied: pyarrow==3.0.0 in /usr/local/lib/python3.7/dist-packages (from -r requirement.txt (line 257)) (3.0.0)\n",
            "Requirement already satisfied: pyasn1==0.4.8 in /usr/local/lib/python3.7/dist-packages (from -r requirement.txt (line 258)) (0.4.8)\n",
            "Requirement already satisfied: pyasn1-modules==0.2.8 in /usr/local/lib/python3.7/dist-packages (from -r requirement.txt (line 259)) (0.2.8)\n",
            "Requirement already satisfied: pycocotools==2.0.2 in /usr/local/lib/python3.7/dist-packages (from -r requirement.txt (line 260)) (2.0.2)\n",
            "Requirement already satisfied: pycparser==2.20 in /usr/local/lib/python3.7/dist-packages (from -r requirement.txt (line 261)) (2.20)\n",
            "Requirement already satisfied: pyct==0.4.8 in /usr/local/lib/python3.7/dist-packages (from -r requirement.txt (line 262)) (0.4.8)\n",
            "Requirement already satisfied: pydata-google-auth==1.2.0 in /usr/local/lib/python3.7/dist-packages (from -r requirement.txt (line 263)) (1.2.0)\n",
            "Requirement already satisfied: pydot==1.3.0 in /usr/local/lib/python3.7/dist-packages (from -r requirement.txt (line 264)) (1.3.0)\n",
            "Requirement already satisfied: pydot-ng==2.0.0 in /usr/local/lib/python3.7/dist-packages (from -r requirement.txt (line 265)) (2.0.0)\n",
            "Requirement already satisfied: pydotplus==2.0.2 in /usr/local/lib/python3.7/dist-packages (from -r requirement.txt (line 266)) (2.0.2)\n",
            "Requirement already satisfied: PyDrive==1.3.1 in /usr/local/lib/python3.7/dist-packages (from -r requirement.txt (line 267)) (1.3.1)\n",
            "Requirement already satisfied: pyemd==0.5.1 in /usr/local/lib/python3.7/dist-packages (from -r requirement.txt (line 268)) (0.5.1)\n",
            "Requirement already satisfied: pyerfa==2.0.0 in /usr/local/lib/python3.7/dist-packages (from -r requirement.txt (line 269)) (2.0.0)\n",
            "Requirement already satisfied: pyglet==1.5.0 in /usr/local/lib/python3.7/dist-packages (from -r requirement.txt (line 270)) (1.5.0)\n",
            "Requirement already satisfied: Pygments==2.6.1 in /usr/local/lib/python3.7/dist-packages (from -r requirement.txt (line 271)) (2.6.1)\n",
            "Requirement already satisfied: pygobject==3.26.1 in /usr/lib/python3/dist-packages (from -r requirement.txt (line 272)) (3.26.1)\n",
            "Requirement already satisfied: pymc3==3.11.2 in /usr/local/lib/python3.7/dist-packages (from -r requirement.txt (line 273)) (3.11.2)\n",
            "Requirement already satisfied: PyMeeus==0.5.11 in /usr/local/lib/python3.7/dist-packages (from -r requirement.txt (line 274)) (0.5.11)\n",
            "Requirement already satisfied: pymongo==3.11.4 in /usr/local/lib/python3.7/dist-packages (from -r requirement.txt (line 275)) (3.11.4)\n",
            "Requirement already satisfied: pymystem3==0.2.0 in /usr/local/lib/python3.7/dist-packages (from -r requirement.txt (line 276)) (0.2.0)\n",
            "Requirement already satisfied: PyOpenGL==3.1.5 in /usr/local/lib/python3.7/dist-packages (from -r requirement.txt (line 277)) (3.1.5)\n",
            "Requirement already satisfied: pyparsing==2.4.7 in /usr/local/lib/python3.7/dist-packages (from -r requirement.txt (line 278)) (2.4.7)\n",
            "Requirement already satisfied: pyrsistent==0.17.3 in /usr/local/lib/python3.7/dist-packages (from -r requirement.txt (line 279)) (0.17.3)\n",
            "Requirement already satisfied: pysndfile==1.3.8 in /usr/local/lib/python3.7/dist-packages (from -r requirement.txt (line 280)) (1.3.8)\n",
            "Requirement already satisfied: PySocks==1.7.1 in /usr/local/lib/python3.7/dist-packages (from -r requirement.txt (line 281)) (1.7.1)\n",
            "Requirement already satisfied: pystan==2.19.1.1 in /usr/local/lib/python3.7/dist-packages (from -r requirement.txt (line 282)) (2.19.1.1)\n",
            "Requirement already satisfied: pytest==3.6.4 in /usr/local/lib/python3.7/dist-packages (from -r requirement.txt (line 283)) (3.6.4)\n",
            "Requirement already satisfied: python-apt==0.0.0 in /usr/local/lib/python3.7/dist-packages (from -r requirement.txt (line 284)) (0.0.0)\n",
            "Requirement already satisfied: python-chess==0.23.11 in /usr/local/lib/python3.7/dist-packages (from -r requirement.txt (line 285)) (0.23.11)\n",
            "Requirement already satisfied: python-dateutil==2.8.1 in /usr/local/lib/python3.7/dist-packages (from -r requirement.txt (line 286)) (2.8.1)\n",
            "Requirement already satisfied: python-louvain==0.15 in /usr/local/lib/python3.7/dist-packages (from -r requirement.txt (line 287)) (0.15)\n",
            "Requirement already satisfied: python-slugify==5.0.2 in /usr/local/lib/python3.7/dist-packages (from -r requirement.txt (line 288)) (5.0.2)\n",
            "Requirement already satisfied: python-utils==2.5.6 in /usr/local/lib/python3.7/dist-packages (from -r requirement.txt (line 289)) (2.5.6)\n",
            "Requirement already satisfied: pytz==2018.9 in /usr/local/lib/python3.7/dist-packages (from -r requirement.txt (line 290)) (2018.9)\n",
            "Requirement already satisfied: pyviz-comms==2.0.2 in /usr/local/lib/python3.7/dist-packages (from -r requirement.txt (line 291)) (2.0.2)\n",
            "Requirement already satisfied: PyWavelets==1.1.1 in /usr/local/lib/python3.7/dist-packages (from -r requirement.txt (line 292)) (1.1.1)\n",
            "Requirement already satisfied: PyYAML==3.13 in /usr/local/lib/python3.7/dist-packages (from -r requirement.txt (line 293)) (3.13)\n",
            "Requirement already satisfied: pyzmq==22.1.0 in /usr/local/lib/python3.7/dist-packages (from -r requirement.txt (line 294)) (22.1.0)\n",
            "Requirement already satisfied: qdldl==0.1.5.post0 in /usr/local/lib/python3.7/dist-packages (from -r requirement.txt (line 295)) (0.1.5.post0)\n",
            "Requirement already satisfied: qtconsole==5.1.0 in /usr/local/lib/python3.7/dist-packages (from -r requirement.txt (line 296)) (5.1.0)\n",
            "Requirement already satisfied: QtPy==1.9.0 in /usr/local/lib/python3.7/dist-packages (from -r requirement.txt (line 297)) (1.9.0)\n",
            "Requirement already satisfied: regex==2019.12.20 in /usr/local/lib/python3.7/dist-packages (from -r requirement.txt (line 298)) (2019.12.20)\n",
            "Requirement already satisfied: requests==2.23.0 in /usr/local/lib/python3.7/dist-packages (from -r requirement.txt (line 299)) (2.23.0)\n",
            "Requirement already satisfied: requests-oauthlib==1.3.0 in /usr/local/lib/python3.7/dist-packages (from -r requirement.txt (line 300)) (1.3.0)\n",
            "Requirement already satisfied: resampy==0.2.2 in /usr/local/lib/python3.7/dist-packages (from -r requirement.txt (line 301)) (0.2.2)\n",
            "Requirement already satisfied: retrying==1.3.3 in /usr/local/lib/python3.7/dist-packages (from -r requirement.txt (line 302)) (1.3.3)\n",
            "Requirement already satisfied: rpy2==3.4.5 in /usr/local/lib/python3.7/dist-packages (from -r requirement.txt (line 303)) (3.4.5)\n",
            "Requirement already satisfied: rsa==4.7.2 in /usr/local/lib/python3.7/dist-packages (from -r requirement.txt (line 304)) (4.7.2)\n",
            "Requirement already satisfied: scikit-image==0.16.2 in /usr/local/lib/python3.7/dist-packages (from -r requirement.txt (line 305)) (0.16.2)\n",
            "Requirement already satisfied: scikit-learn==0.22.2.post1 in /usr/local/lib/python3.7/dist-packages (from -r requirement.txt (line 306)) (0.22.2.post1)\n",
            "Requirement already satisfied: scipy==1.4.1 in /usr/local/lib/python3.7/dist-packages (from -r requirement.txt (line 307)) (1.4.1)\n",
            "Requirement already satisfied: screen-resolution-extra==0.0.0 in /usr/lib/python3/dist-packages (from -r requirement.txt (line 308)) (0.0.0)\n",
            "Requirement already satisfied: scs==2.1.4 in /usr/local/lib/python3.7/dist-packages (from -r requirement.txt (line 309)) (2.1.4)\n",
            "Requirement already satisfied: seaborn==0.11.1 in /usr/local/lib/python3.7/dist-packages (from -r requirement.txt (line 310)) (0.11.1)\n",
            "Requirement already satisfied: semver==2.13.0 in /usr/local/lib/python3.7/dist-packages (from -r requirement.txt (line 311)) (2.13.0)\n",
            "Requirement already satisfied: Send2Trash==1.5.0 in /usr/local/lib/python3.7/dist-packages (from -r requirement.txt (line 312)) (1.5.0)\n",
            "Requirement already satisfied: setuptools-git==1.2 in /usr/local/lib/python3.7/dist-packages (from -r requirement.txt (line 313)) (1.2)\n",
            "Requirement already satisfied: Shapely==1.7.1 in /usr/local/lib/python3.7/dist-packages (from -r requirement.txt (line 314)) (1.7.1)\n",
            "Requirement already satisfied: simplegeneric==0.8.1 in /usr/local/lib/python3.7/dist-packages (from -r requirement.txt (line 315)) (0.8.1)\n",
            "Requirement already satisfied: six==1.15.0 in /usr/local/lib/python3.7/dist-packages (from -r requirement.txt (line 316)) (1.15.0)\n",
            "Requirement already satisfied: sklearn==0.0 in /usr/local/lib/python3.7/dist-packages (from -r requirement.txt (line 317)) (0.0)\n",
            "Requirement already satisfied: sklearn-pandas==1.8.0 in /usr/local/lib/python3.7/dist-packages (from -r requirement.txt (line 318)) (1.8.0)\n",
            "Requirement already satisfied: smart-open==5.1.0 in /usr/local/lib/python3.7/dist-packages (from -r requirement.txt (line 319)) (5.1.0)\n",
            "Requirement already satisfied: snowballstemmer==2.1.0 in /usr/local/lib/python3.7/dist-packages (from -r requirement.txt (line 320)) (2.1.0)\n",
            "Requirement already satisfied: sortedcontainers==2.4.0 in /usr/local/lib/python3.7/dist-packages (from -r requirement.txt (line 321)) (2.4.0)\n",
            "Requirement already satisfied: SoundFile==0.10.3.post1 in /usr/local/lib/python3.7/dist-packages (from -r requirement.txt (line 322)) (0.10.3.post1)\n",
            "Requirement already satisfied: spacy==2.2.4 in /usr/local/lib/python3.7/dist-packages (from -r requirement.txt (line 323)) (2.2.4)\n",
            "Requirement already satisfied: Sphinx==1.8.5 in /usr/local/lib/python3.7/dist-packages (from -r requirement.txt (line 324)) (1.8.5)\n",
            "Requirement already satisfied: sphinxcontrib-serializinghtml==1.1.5 in /usr/local/lib/python3.7/dist-packages (from -r requirement.txt (line 325)) (1.1.5)\n",
            "Requirement already satisfied: sphinxcontrib-websupport==1.2.4 in /usr/local/lib/python3.7/dist-packages (from -r requirement.txt (line 326)) (1.2.4)\n",
            "Requirement already satisfied: SQLAlchemy==1.4.18 in /usr/local/lib/python3.7/dist-packages (from -r requirement.txt (line 327)) (1.4.18)\n",
            "Requirement already satisfied: sqlparse==0.4.1 in /usr/local/lib/python3.7/dist-packages (from -r requirement.txt (line 328)) (0.4.1)\n",
            "Requirement already satisfied: srsly==1.0.5 in /usr/local/lib/python3.7/dist-packages (from -r requirement.txt (line 329)) (1.0.5)\n",
            "Requirement already satisfied: statsmodels==0.10.2 in /usr/local/lib/python3.7/dist-packages (from -r requirement.txt (line 330)) (0.10.2)\n",
            "Requirement already satisfied: sympy==1.7.1 in /usr/local/lib/python3.7/dist-packages (from -r requirement.txt (line 331)) (1.7.1)\n",
            "Requirement already satisfied: tables==3.4.4 in /usr/local/lib/python3.7/dist-packages (from -r requirement.txt (line 332)) (3.4.4)\n",
            "Requirement already satisfied: tabulate==0.8.9 in /usr/local/lib/python3.7/dist-packages (from -r requirement.txt (line 333)) (0.8.9)\n",
            "Requirement already satisfied: tblib==1.7.0 in /usr/local/lib/python3.7/dist-packages (from -r requirement.txt (line 334)) (1.7.0)\n",
            "Requirement already satisfied: tensorboard==2.5.0 in /usr/local/lib/python3.7/dist-packages (from -r requirement.txt (line 335)) (2.5.0)\n",
            "Requirement already satisfied: tensorboard-data-server==0.6.1 in /usr/local/lib/python3.7/dist-packages (from -r requirement.txt (line 336)) (0.6.1)\n",
            "Requirement already satisfied: tensorboard-plugin-wit==1.8.0 in /usr/local/lib/python3.7/dist-packages (from -r requirement.txt (line 337)) (1.8.0)\n",
            "Requirement already satisfied: tensorflow==2.5.0 in /usr/local/lib/python3.7/dist-packages (from -r requirement.txt (line 338)) (2.5.0)\n",
            "Requirement already satisfied: tensorflow-datasets==4.0.1 in /usr/local/lib/python3.7/dist-packages (from -r requirement.txt (line 339)) (4.0.1)\n",
            "Requirement already satisfied: tensorflow-estimator==2.5.0 in /usr/local/lib/python3.7/dist-packages (from -r requirement.txt (line 340)) (2.5.0)\n",
            "Requirement already satisfied: tensorflow-gcs-config==2.5.0 in /usr/local/lib/python3.7/dist-packages (from -r requirement.txt (line 341)) (2.5.0)\n",
            "Requirement already satisfied: tensorflow-hub==0.12.0 in /usr/local/lib/python3.7/dist-packages (from -r requirement.txt (line 342)) (0.12.0)\n",
            "Requirement already satisfied: tensorflow-metadata==1.0.0 in /usr/local/lib/python3.7/dist-packages (from -r requirement.txt (line 343)) (1.0.0)\n",
            "Requirement already satisfied: tensorflow-probability==0.12.1 in /usr/local/lib/python3.7/dist-packages (from -r requirement.txt (line 344)) (0.12.1)\n",
            "Requirement already satisfied: termcolor==1.1.0 in /usr/local/lib/python3.7/dist-packages (from -r requirement.txt (line 345)) (1.1.0)\n",
            "Requirement already satisfied: terminado==0.10.1 in /usr/local/lib/python3.7/dist-packages (from -r requirement.txt (line 346)) (0.10.1)\n",
            "Requirement already satisfied: testpath==0.5.0 in /usr/local/lib/python3.7/dist-packages (from -r requirement.txt (line 347)) (0.5.0)\n",
            "Requirement already satisfied: text-unidecode==1.3 in /usr/local/lib/python3.7/dist-packages (from -r requirement.txt (line 348)) (1.3)\n",
            "Requirement already satisfied: textblob==0.15.3 in /usr/local/lib/python3.7/dist-packages (from -r requirement.txt (line 349)) (0.15.3)\n",
            "Requirement already satisfied: Theano-PyMC==1.1.2 in /usr/local/lib/python3.7/dist-packages (from -r requirement.txt (line 350)) (1.1.2)\n",
            "Requirement already satisfied: thinc==7.4.0 in /usr/local/lib/python3.7/dist-packages (from -r requirement.txt (line 351)) (7.4.0)\n",
            "Requirement already satisfied: tifffile==2021.6.6 in /usr/local/lib/python3.7/dist-packages (from -r requirement.txt (line 352)) (2021.6.6)\n",
            "Requirement already satisfied: toml==0.10.2 in /usr/local/lib/python3.7/dist-packages (from -r requirement.txt (line 353)) (0.10.2)\n",
            "Requirement already satisfied: toolz==0.11.1 in /usr/local/lib/python3.7/dist-packages (from -r requirement.txt (line 354)) (0.11.1)\n",
            "Requirement already satisfied: torch==1.8.1+cu101 in /usr/local/lib/python3.7/dist-packages (from -r requirement.txt (line 355)) (1.8.1+cu101)\n",
            "Requirement already satisfied: torchsummary==1.5.1 in /usr/local/lib/python3.7/dist-packages (from -r requirement.txt (line 356)) (1.5.1)\n",
            "Requirement already satisfied: torchtext==0.9.1 in /usr/local/lib/python3.7/dist-packages (from -r requirement.txt (line 357)) (0.9.1)\n",
            "Requirement already satisfied: torchvision==0.9.1+cu101 in /usr/local/lib/python3.7/dist-packages (from -r requirement.txt (line 358)) (0.9.1+cu101)\n",
            "Requirement already satisfied: tornado==5.1.1 in /usr/local/lib/python3.7/dist-packages (from -r requirement.txt (line 359)) (5.1.1)\n",
            "Requirement already satisfied: tqdm==4.41.1 in /usr/local/lib/python3.7/dist-packages (from -r requirement.txt (line 360)) (4.41.1)\n",
            "Requirement already satisfied: traitlets==5.0.5 in /usr/local/lib/python3.7/dist-packages (from -r requirement.txt (line 361)) (5.0.5)\n",
            "Requirement already satisfied: tweepy==3.10.0 in /usr/local/lib/python3.7/dist-packages (from -r requirement.txt (line 362)) (3.10.0)\n",
            "Requirement already satisfied: typeguard==2.7.1 in /usr/local/lib/python3.7/dist-packages (from -r requirement.txt (line 363)) (2.7.1)\n",
            "Requirement already satisfied: typing-extensions==3.7.4.3 in /usr/local/lib/python3.7/dist-packages (from -r requirement.txt (line 364)) (3.7.4.3)\n",
            "Requirement already satisfied: tzlocal==1.5.1 in /usr/local/lib/python3.7/dist-packages (from -r requirement.txt (line 365)) (1.5.1)\n",
            "Requirement already satisfied: uritemplate==3.0.1 in /usr/local/lib/python3.7/dist-packages (from -r requirement.txt (line 366)) (3.0.1)\n",
            "Requirement already satisfied: urllib3==1.24.3 in /usr/local/lib/python3.7/dist-packages (from -r requirement.txt (line 367)) (1.24.3)\n",
            "Requirement already satisfied: vega-datasets==0.9.0 in /usr/local/lib/python3.7/dist-packages (from -r requirement.txt (line 368)) (0.9.0)\n",
            "Requirement already satisfied: virtualenv==20.4.7 in /usr/local/lib/python3.7/dist-packages (from -r requirement.txt (line 369)) (20.4.7)\n",
            "Requirement already satisfied: wasabi==0.8.2 in /usr/local/lib/python3.7/dist-packages (from -r requirement.txt (line 370)) (0.8.2)\n",
            "Requirement already satisfied: wcwidth==0.2.5 in /usr/local/lib/python3.7/dist-packages (from -r requirement.txt (line 371)) (0.2.5)\n",
            "Requirement already satisfied: webencodings==0.5.1 in /usr/local/lib/python3.7/dist-packages (from -r requirement.txt (line 372)) (0.5.1)\n",
            "Requirement already satisfied: Werkzeug==1.0.1 in /usr/local/lib/python3.7/dist-packages (from -r requirement.txt (line 373)) (1.0.1)\n",
            "Requirement already satisfied: widgetsnbextension==3.5.1 in /usr/local/lib/python3.7/dist-packages (from -r requirement.txt (line 374)) (3.5.1)\n",
            "Requirement already satisfied: wordcloud==1.5.0 in /usr/local/lib/python3.7/dist-packages (from -r requirement.txt (line 375)) (1.5.0)\n",
            "Requirement already satisfied: wrapt==1.12.1 in /usr/local/lib/python3.7/dist-packages (from -r requirement.txt (line 376)) (1.12.1)\n",
            "Requirement already satisfied: xarray==0.18.2 in /usr/local/lib/python3.7/dist-packages (from -r requirement.txt (line 377)) (0.18.2)\n",
            "Requirement already satisfied: xgboost==0.90 in /usr/local/lib/python3.7/dist-packages (from -r requirement.txt (line 378)) (0.90)\n",
            "Requirement already satisfied: xkit==0.0.0 in /usr/lib/python3/dist-packages (from -r requirement.txt (line 379)) (0.0.0)\n",
            "Requirement already satisfied: xlrd==1.1.0 in /usr/local/lib/python3.7/dist-packages (from -r requirement.txt (line 380)) (1.1.0)\n",
            "Requirement already satisfied: xlwt==1.3.0 in /usr/local/lib/python3.7/dist-packages (from -r requirement.txt (line 381)) (1.3.0)\n",
            "Requirement already satisfied: yellowbrick==0.9.1 in /usr/local/lib/python3.7/dist-packages (from -r requirement.txt (line 382)) (0.9.1)\n",
            "Requirement already satisfied: zict==2.0.0 in /usr/local/lib/python3.7/dist-packages (from -r requirement.txt (line 383)) (2.0.0)\n",
            "Requirement already satisfied: zipp==3.4.1 in /usr/local/lib/python3.7/dist-packages (from -r requirement.txt (line 384)) (3.4.1)\n",
            "Requirement already satisfied: setuptools>=38.4 in /usr/local/lib/python3.7/dist-packages (from arviz==0.11.2->-r requirement.txt (line 7)) (57.0.0)\n",
            "Requirement already satisfied: wheel<1.0,>=0.23.0 in /usr/local/lib/python3.7/dist-packages (from astunparse==1.6.3->-r requirement.txt (line 10)) (0.36.2)\n"
          ],
          "name": "stdout"
        }
      ]
    },
    {
      "cell_type": "code",
      "metadata": {
        "colab": {
          "base_uri": "https://localhost:8080/"
        },
        "id": "vCyFoN5wd-jO",
        "outputId": "067c3804-9ebd-403c-d74b-95e93ffa3585"
      },
      "source": [
        "import nltk\n",
        "from nltk.stem import WordNetLemmatizer\n",
        "lemmatizer = WordNetLemmatizer()\n",
        "\n",
        "# Download ini di google colab / Jupyter notebook untuk package tambahan\n",
        "nltk.download('punkt')\n",
        "nltk.download('wordnet')"
      ],
      "execution_count": 2,
      "outputs": [
        {
          "output_type": "stream",
          "text": [
            "[nltk_data] Downloading package punkt to /root/nltk_data...\n",
            "[nltk_data]   Unzipping tokenizers/punkt.zip.\n",
            "[nltk_data] Downloading package wordnet to /root/nltk_data...\n",
            "[nltk_data]   Unzipping corpora/wordnet.zip.\n"
          ],
          "name": "stdout"
        },
        {
          "output_type": "execute_result",
          "data": {
            "text/plain": [
              "True"
            ]
          },
          "metadata": {
            "tags": []
          },
          "execution_count": 2
        }
      ]
    },
    {
      "cell_type": "markdown",
      "metadata": {
        "id": "fQjQ8z0ieJF9"
      },
      "source": [
        "### 2. Import Library tambahan untuk menyimpan file seperti pandas , numpy , json dll"
      ]
    },
    {
      "cell_type": "code",
      "metadata": {
        "id": "MhACe1K1eIhm"
      },
      "source": [
        "import json\n",
        "import pickle\n",
        "import random\n",
        "import numpy as np\n",
        "import pandas as pd"
      ],
      "execution_count": 3,
      "outputs": []
    },
    {
      "cell_type": "markdown",
      "metadata": {
        "id": "Rx8IC2dgeZ4P"
      },
      "source": [
        "### 3. Import Library Machine Learning dan Deep Learning \n",
        "* Sklearn ( Machine Learning )\n",
        "* Keras ( Deep Learning )\n",
        "* tensorflow ( model deployment + integrated keras )"
      ]
    },
    {
      "cell_type": "code",
      "metadata": {
        "id": "RiJhcmvneaIu"
      },
      "source": [
        "import tensorflow as tf\n",
        "from sklearn.preprocessing import LabelEncoder\n",
        "import keras\n",
        "from keras.models import Sequential , load_model\n",
        "from keras.layers import Dense, Activation, Dropout , LSTM , Embedding\n",
        "from keras.optimizers import SGD\n",
        "from keras.preprocessing.text import Tokenizer"
      ],
      "execution_count": 4,
      "outputs": []
    },
    {
      "cell_type": "markdown",
      "metadata": {
        "id": "EMU3PayefA9d"
      },
      "source": [
        "### 4. Melakukan import library Dataset Laptop 2 dan Dataset Chatbot"
      ]
    },
    {
      "cell_type": "code",
      "metadata": {
        "id": "pgc04SBee4Zm"
      },
      "source": [
        "data_file = open('Dataset Chatbot Laptop.json').read()\n",
        "intents = json.loads(data_file)\n",
        "spek = pd.read_csv(\"Dataset Laptop 2.csv\")"
      ],
      "execution_count": 5,
      "outputs": []
    },
    {
      "cell_type": "markdown",
      "metadata": {
        "id": "aTlY5ASlfRPu"
      },
      "source": [
        "### 5. Membuat list baru untuk menyimpan data kata , kelas dan dokumen"
      ]
    },
    {
      "cell_type": "code",
      "metadata": {
        "id": "Y3c7y0KefQk-"
      },
      "source": [
        "words=[]\n",
        "classes = []\n",
        "documents = []\n",
        "ignore_words = ['?', '!']"
      ],
      "execution_count": 6,
      "outputs": []
    },
    {
      "cell_type": "markdown",
      "metadata": {
        "id": "OQtziv3aflV1"
      },
      "source": [
        "### 6. Melakukan looping dari json untuk melakukan preprocessing text"
      ]
    },
    {
      "cell_type": "code",
      "metadata": {
        "id": "hANaK5zMflIm"
      },
      "source": [
        "for intent in intents['intents']:\n",
        "    for pattern in intent['patterns']:\n",
        "\n",
        "        #tokenize each word\n",
        "        w = nltk.word_tokenize(pattern)\n",
        "        words.extend(w)\n",
        "        #add documents in the corpus\n",
        "        documents.append((w, intent['tag']))\n",
        "\n",
        "        # add to our classes list\n",
        "        if intent['tag'] not in classes:\n",
        "            classes.append(intent['tag'])\n",
        "\n",
        "# lemmaztize and lower each word and remove duplicates\n",
        "words = [lemmatizer.lemmatize(w.lower()) for w in words if w not in ignore_words]\n",
        "words = sorted(list(set(words)))\n",
        "# sort classes\n",
        "classes = sorted(list(set(classes)))\n",
        "\n",
        "pickle.dump(words,open('testing_kata.pkl','wb'))\n",
        "pickle.dump(classes,open('testing.pkl','wb'))"
      ],
      "execution_count": 7,
      "outputs": []
    },
    {
      "cell_type": "markdown",
      "metadata": {
        "id": "dkCAZkRwgF7m"
      },
      "source": [
        "### 7. Melakukan training dan membuat bag of words"
      ]
    },
    {
      "cell_type": "code",
      "metadata": {
        "id": "coKFG_GOgFtX"
      },
      "source": [
        "training = []\n",
        "# create an empty array for our output\n",
        "output_empty = [0] * len(classes)\n",
        "# training set, bag of words for each sentence\n",
        "for doc in documents:\n",
        "    # initialize our bag of words\n",
        "    bag = []\n",
        "    # list of tokenized words for the pattern\n",
        "    pattern_words = doc[0]\n",
        "    # lemmatize each word - create base word, in attempt to represent related words\n",
        "    pattern_words = [lemmatizer.lemmatize(word.lower()) for word in pattern_words]\n",
        "    # create our bag of words array with 1, if word match found in current pattern\n",
        "    for w in words:\n",
        "        bag.append(1) if w in pattern_words else bag.append(0)\n",
        "    \n",
        "    # output is a '0' for each tag and '1' for current tag (for each pattern)\n",
        "    output_row = list(output_empty)\n",
        "    output_row[classes.index(doc[1])] = 1\n",
        "    \n",
        "    training.append([bag, output_row])"
      ],
      "execution_count": 8,
      "outputs": []
    },
    {
      "cell_type": "markdown",
      "metadata": {
        "id": "Nd2FtjcsgXmN"
      },
      "source": [
        "### 8. Melakukan pemisahkan antara training X dan Y "
      ]
    },
    {
      "cell_type": "code",
      "metadata": {
        "id": "6rCxUIyqgXM2",
        "colab": {
          "base_uri": "https://localhost:8080/"
        },
        "outputId": "dedd4780-40b6-4e52-81be-5aaf5eadce8b"
      },
      "source": [
        "# shuffle our features and turn into np.array\n",
        "random.shuffle(training)\n",
        "training = np.array(training)\n",
        "# create train and test lists. X - patterns, Y - intents\n",
        "train_x = list(training[:,0])\n",
        "train_y = list(training[:,1])\n",
        "\n",
        "train_x_convert = np.array(train_x)\n",
        "train_y_convert = np.array(train_y)\n",
        "\n",
        "print(\"Training data created\")"
      ],
      "execution_count": 9,
      "outputs": [
        {
          "output_type": "stream",
          "text": [
            "Training data created\n"
          ],
          "name": "stdout"
        },
        {
          "output_type": "stream",
          "text": [
            "/usr/local/lib/python3.7/dist-packages/ipykernel_launcher.py:3: VisibleDeprecationWarning: Creating an ndarray from ragged nested sequences (which is a list-or-tuple of lists-or-tuples-or ndarrays with different lengths or shapes) is deprecated. If you meant to do this, you must specify 'dtype=object' when creating the ndarray\n",
            "  This is separate from the ipykernel package so we can avoid doing imports until\n"
          ],
          "name": "stderr"
        }
      ]
    },
    {
      "cell_type": "markdown",
      "metadata": {
        "id": "h3JNipcfgqn1"
      },
      "source": [
        "### 9. Melakukan training data dengan Deep Learning"
      ]
    },
    {
      "cell_type": "code",
      "metadata": {
        "id": "zYMmNtKsgqDW",
        "colab": {
          "base_uri": "https://localhost:8080/"
        },
        "outputId": "d97a824f-d8dd-4345-f37b-2d89816c0ca8"
      },
      "source": [
        "model = Sequential()\n",
        "model.add(Dense(128 , input_shape=(len(train_x[0]),) , activation='relu'))\n",
        "model.add(Dropout(0.5))\n",
        "model.add(Dense(64, activation='relu'))\n",
        "model.add(Dropout(0.5))\n",
        "model.add(Dense(len(train_y_convert[0]), activation='softmax'))\n",
        "\n",
        "# Compile model. Stochastic gradient descent with Nesterov accelerated gradient gives good results for this model\n",
        "sgd = SGD(lr=0.01, decay=1e-6, momentum=0.9, nesterov=True)\n",
        "model.compile(loss='categorical_crossentropy', optimizer=sgd, metrics=['accuracy'])\n",
        "\n",
        "#fitting and saving the model \n",
        "hist = model.fit(train_x_convert , train_y_convert , epochs=100, batch_size=5, verbose=1)\n",
        "model.save('chatbot_model.h5', hist)\n",
        "\n",
        "print(\"model created\")"
      ],
      "execution_count": 10,
      "outputs": [
        {
          "output_type": "stream",
          "text": [
            "/usr/local/lib/python3.7/dist-packages/tensorflow/python/keras/optimizer_v2/optimizer_v2.py:375: UserWarning: The `lr` argument is deprecated, use `learning_rate` instead.\n",
            "  \"The `lr` argument is deprecated, use `learning_rate` instead.\")\n"
          ],
          "name": "stderr"
        },
        {
          "output_type": "stream",
          "text": [
            "Epoch 1/100\n",
            "15/15 [==============================] - 13s 1ms/step - loss: 2.9363 - accuracy: 0.0967 \n",
            "Epoch 2/100\n",
            "15/15 [==============================] - 0s 2ms/step - loss: 2.9236 - accuracy: 0.0512\n",
            "Epoch 3/100\n",
            "15/15 [==============================] - 0s 1ms/step - loss: 2.8554 - accuracy: 0.0585\n",
            "Epoch 4/100\n",
            "15/15 [==============================] - 0s 1ms/step - loss: 2.7675 - accuracy: 0.1556\n",
            "Epoch 5/100\n",
            "15/15 [==============================] - 0s 1ms/step - loss: 2.6765 - accuracy: 0.1445\n",
            "Epoch 6/100\n",
            "15/15 [==============================] - 0s 1ms/step - loss: 2.7083 - accuracy: 0.0875\n",
            "Epoch 7/100\n",
            "15/15 [==============================] - 0s 1ms/step - loss: 2.7298 - accuracy: 0.1504\n",
            "Epoch 8/100\n",
            "15/15 [==============================] - 0s 1ms/step - loss: 2.5412 - accuracy: 0.1764\n",
            "Epoch 9/100\n",
            "15/15 [==============================] - 0s 2ms/step - loss: 2.4810 - accuracy: 0.2155\n",
            "Epoch 10/100\n",
            "15/15 [==============================] - 0s 2ms/step - loss: 2.4123 - accuracy: 0.3477\n",
            "Epoch 11/100\n",
            "15/15 [==============================] - 0s 1ms/step - loss: 2.3412 - accuracy: 0.2575\n",
            "Epoch 12/100\n",
            "15/15 [==============================] - 0s 2ms/step - loss: 2.1795 - accuracy: 0.3592\n",
            "Epoch 13/100\n",
            "15/15 [==============================] - 0s 1ms/step - loss: 2.2469 - accuracy: 0.3389\n",
            "Epoch 14/100\n",
            "15/15 [==============================] - 0s 1ms/step - loss: 2.1172 - accuracy: 0.3794\n",
            "Epoch 15/100\n",
            "15/15 [==============================] - 0s 1ms/step - loss: 1.9386 - accuracy: 0.4678\n",
            "Epoch 16/100\n",
            "15/15 [==============================] - 0s 2ms/step - loss: 2.1393 - accuracy: 0.3541\n",
            "Epoch 17/100\n",
            "15/15 [==============================] - 0s 2ms/step - loss: 1.6368 - accuracy: 0.5370\n",
            "Epoch 18/100\n",
            "15/15 [==============================] - 0s 2ms/step - loss: 1.5871 - accuracy: 0.4838\n",
            "Epoch 19/100\n",
            "15/15 [==============================] - 0s 2ms/step - loss: 1.7492 - accuracy: 0.4547\n",
            "Epoch 20/100\n",
            "15/15 [==============================] - 0s 1ms/step - loss: 1.4378 - accuracy: 0.6334\n",
            "Epoch 21/100\n",
            "15/15 [==============================] - 0s 2ms/step - loss: 1.5759 - accuracy: 0.4447\n",
            "Epoch 22/100\n",
            "15/15 [==============================] - 0s 1ms/step - loss: 1.3330 - accuracy: 0.6287\n",
            "Epoch 23/100\n",
            "15/15 [==============================] - 0s 1ms/step - loss: 1.1535 - accuracy: 0.5277\n",
            "Epoch 24/100\n",
            "15/15 [==============================] - 0s 2ms/step - loss: 1.0937 - accuracy: 0.6286\n",
            "Epoch 25/100\n",
            "15/15 [==============================] - 0s 2ms/step - loss: 1.4453 - accuracy: 0.5442\n",
            "Epoch 26/100\n",
            "15/15 [==============================] - 0s 2ms/step - loss: 0.9094 - accuracy: 0.6824\n",
            "Epoch 27/100\n",
            "15/15 [==============================] - 0s 2ms/step - loss: 1.1328 - accuracy: 0.6629\n",
            "Epoch 28/100\n",
            "15/15 [==============================] - 0s 2ms/step - loss: 1.0703 - accuracy: 0.6538\n",
            "Epoch 29/100\n",
            "15/15 [==============================] - 0s 2ms/step - loss: 1.0485 - accuracy: 0.6616\n",
            "Epoch 30/100\n",
            "15/15 [==============================] - 0s 1ms/step - loss: 0.9120 - accuracy: 0.6163\n",
            "Epoch 31/100\n",
            "15/15 [==============================] - 0s 2ms/step - loss: 1.0021 - accuracy: 0.6226\n",
            "Epoch 32/100\n",
            "15/15 [==============================] - 0s 1ms/step - loss: 1.0640 - accuracy: 0.6477\n",
            "Epoch 33/100\n",
            "15/15 [==============================] - 0s 2ms/step - loss: 0.8876 - accuracy: 0.7392\n",
            "Epoch 34/100\n",
            "15/15 [==============================] - 0s 2ms/step - loss: 0.8032 - accuracy: 0.8023\n",
            "Epoch 35/100\n",
            "15/15 [==============================] - 0s 1ms/step - loss: 0.9898 - accuracy: 0.6633\n",
            "Epoch 36/100\n",
            "15/15 [==============================] - 0s 1ms/step - loss: 0.7234 - accuracy: 0.7630\n",
            "Epoch 37/100\n",
            "15/15 [==============================] - 0s 2ms/step - loss: 0.8775 - accuracy: 0.7417\n",
            "Epoch 38/100\n",
            "15/15 [==============================] - 0s 2ms/step - loss: 0.7996 - accuracy: 0.7086\n",
            "Epoch 39/100\n",
            "15/15 [==============================] - 0s 2ms/step - loss: 0.8722 - accuracy: 0.6224\n",
            "Epoch 40/100\n",
            "15/15 [==============================] - 0s 2ms/step - loss: 0.9675 - accuracy: 0.6836\n",
            "Epoch 41/100\n",
            "15/15 [==============================] - 0s 2ms/step - loss: 0.7656 - accuracy: 0.7124\n",
            "Epoch 42/100\n",
            "15/15 [==============================] - 0s 2ms/step - loss: 0.8970 - accuracy: 0.7074\n",
            "Epoch 43/100\n",
            "15/15 [==============================] - 0s 2ms/step - loss: 0.6739 - accuracy: 0.8188\n",
            "Epoch 44/100\n",
            "15/15 [==============================] - 0s 2ms/step - loss: 0.6281 - accuracy: 0.8168\n",
            "Epoch 45/100\n",
            "15/15 [==============================] - 0s 2ms/step - loss: 0.6792 - accuracy: 0.7564\n",
            "Epoch 46/100\n",
            "15/15 [==============================] - 0s 2ms/step - loss: 0.6111 - accuracy: 0.8245\n",
            "Epoch 47/100\n",
            "15/15 [==============================] - 0s 2ms/step - loss: 0.5123 - accuracy: 0.8514\n",
            "Epoch 48/100\n",
            "15/15 [==============================] - 0s 1ms/step - loss: 0.6082 - accuracy: 0.7488\n",
            "Epoch 49/100\n",
            "15/15 [==============================] - 0s 1ms/step - loss: 0.4247 - accuracy: 0.8767\n",
            "Epoch 50/100\n",
            "15/15 [==============================] - 0s 1ms/step - loss: 0.6730 - accuracy: 0.6544\n",
            "Epoch 51/100\n",
            "15/15 [==============================] - 0s 1ms/step - loss: 0.6694 - accuracy: 0.7473\n",
            "Epoch 52/100\n",
            "15/15 [==============================] - 0s 2ms/step - loss: 0.5335 - accuracy: 0.8205\n",
            "Epoch 53/100\n",
            "15/15 [==============================] - 0s 2ms/step - loss: 0.3775 - accuracy: 0.9026\n",
            "Epoch 54/100\n",
            "15/15 [==============================] - 0s 2ms/step - loss: 0.6295 - accuracy: 0.7448\n",
            "Epoch 55/100\n",
            "15/15 [==============================] - 0s 1ms/step - loss: 0.6439 - accuracy: 0.7510\n",
            "Epoch 56/100\n",
            "15/15 [==============================] - 0s 1ms/step - loss: 0.5344 - accuracy: 0.7527\n",
            "Epoch 57/100\n",
            "15/15 [==============================] - 0s 2ms/step - loss: 0.5882 - accuracy: 0.7743\n",
            "Epoch 58/100\n",
            "15/15 [==============================] - 0s 1ms/step - loss: 0.4171 - accuracy: 0.8780\n",
            "Epoch 59/100\n",
            "15/15 [==============================] - 0s 2ms/step - loss: 0.6121 - accuracy: 0.7376\n",
            "Epoch 60/100\n",
            "15/15 [==============================] - 0s 2ms/step - loss: 0.6191 - accuracy: 0.8241\n",
            "Epoch 61/100\n",
            "15/15 [==============================] - 0s 2ms/step - loss: 0.4468 - accuracy: 0.8558\n",
            "Epoch 62/100\n",
            "15/15 [==============================] - 0s 1ms/step - loss: 0.6225 - accuracy: 0.7554\n",
            "Epoch 63/100\n",
            "15/15 [==============================] - 0s 2ms/step - loss: 0.5131 - accuracy: 0.8473\n",
            "Epoch 64/100\n",
            "15/15 [==============================] - 0s 2ms/step - loss: 0.5078 - accuracy: 0.8240\n",
            "Epoch 65/100\n",
            "15/15 [==============================] - 0s 1ms/step - loss: 0.4336 - accuracy: 0.8691\n",
            "Epoch 66/100\n",
            "15/15 [==============================] - 0s 2ms/step - loss: 0.4574 - accuracy: 0.8568\n",
            "Epoch 67/100\n",
            "15/15 [==============================] - 0s 1ms/step - loss: 0.5257 - accuracy: 0.8354\n",
            "Epoch 68/100\n",
            "15/15 [==============================] - 0s 2ms/step - loss: 0.4328 - accuracy: 0.8579\n",
            "Epoch 69/100\n",
            "15/15 [==============================] - 0s 2ms/step - loss: 0.4685 - accuracy: 0.8603\n",
            "Epoch 70/100\n",
            "15/15 [==============================] - 0s 2ms/step - loss: 0.4368 - accuracy: 0.8572\n",
            "Epoch 71/100\n",
            "15/15 [==============================] - 0s 1ms/step - loss: 0.7000 - accuracy: 0.6602\n",
            "Epoch 72/100\n",
            "15/15 [==============================] - 0s 2ms/step - loss: 0.4681 - accuracy: 0.8435\n",
            "Epoch 73/100\n",
            "15/15 [==============================] - 0s 2ms/step - loss: 0.4680 - accuracy: 0.8228\n",
            "Epoch 74/100\n",
            "15/15 [==============================] - 0s 2ms/step - loss: 0.4790 - accuracy: 0.8172\n",
            "Epoch 75/100\n",
            "15/15 [==============================] - 0s 2ms/step - loss: 0.4009 - accuracy: 0.8100\n",
            "Epoch 76/100\n",
            "15/15 [==============================] - 0s 2ms/step - loss: 0.4685 - accuracy: 0.8423\n",
            "Epoch 77/100\n",
            "15/15 [==============================] - 0s 2ms/step - loss: 0.3153 - accuracy: 0.9039\n",
            "Epoch 78/100\n",
            "15/15 [==============================] - 0s 2ms/step - loss: 0.4186 - accuracy: 0.8589\n",
            "Epoch 79/100\n",
            "15/15 [==============================] - 0s 2ms/step - loss: 0.4734 - accuracy: 0.7931\n",
            "Epoch 80/100\n",
            "15/15 [==============================] - 0s 1ms/step - loss: 0.5434 - accuracy: 0.6983\n",
            "Epoch 81/100\n",
            "15/15 [==============================] - 0s 2ms/step - loss: 0.6030 - accuracy: 0.7772\n",
            "Epoch 82/100\n",
            "15/15 [==============================] - 0s 2ms/step - loss: 0.3680 - accuracy: 0.8344\n",
            "Epoch 83/100\n",
            "15/15 [==============================] - 0s 1ms/step - loss: 0.3806 - accuracy: 0.8588\n",
            "Epoch 84/100\n",
            "15/15 [==============================] - 0s 2ms/step - loss: 0.3466 - accuracy: 0.8974\n",
            "Epoch 85/100\n",
            "15/15 [==============================] - 0s 2ms/step - loss: 0.3098 - accuracy: 0.8737\n",
            "Epoch 86/100\n",
            "15/15 [==============================] - 0s 2ms/step - loss: 0.5595 - accuracy: 0.7412\n",
            "Epoch 87/100\n",
            "15/15 [==============================] - 0s 2ms/step - loss: 0.3121 - accuracy: 0.9226\n",
            "Epoch 88/100\n",
            "15/15 [==============================] - 0s 2ms/step - loss: 0.3478 - accuracy: 0.8571\n",
            "Epoch 89/100\n",
            "15/15 [==============================] - 0s 2ms/step - loss: 0.3378 - accuracy: 0.8847\n",
            "Epoch 90/100\n",
            "15/15 [==============================] - 0s 2ms/step - loss: 0.3639 - accuracy: 0.8779\n",
            "Epoch 91/100\n",
            "15/15 [==============================] - 0s 1ms/step - loss: 0.5579 - accuracy: 0.7653\n",
            "Epoch 92/100\n",
            "15/15 [==============================] - 0s 1ms/step - loss: 0.5733 - accuracy: 0.7269\n",
            "Epoch 93/100\n",
            "15/15 [==============================] - 0s 1ms/step - loss: 0.3530 - accuracy: 0.8806\n",
            "Epoch 94/100\n",
            "15/15 [==============================] - 0s 2ms/step - loss: 0.3442 - accuracy: 0.9084\n",
            "Epoch 95/100\n",
            "15/15 [==============================] - 0s 2ms/step - loss: 0.3722 - accuracy: 0.8168\n",
            "Epoch 96/100\n",
            "15/15 [==============================] - 0s 2ms/step - loss: 0.4567 - accuracy: 0.7956\n",
            "Epoch 97/100\n",
            "15/15 [==============================] - 0s 1ms/step - loss: 0.3885 - accuracy: 0.8384\n",
            "Epoch 98/100\n",
            "15/15 [==============================] - 0s 2ms/step - loss: 0.3850 - accuracy: 0.8693\n",
            "Epoch 99/100\n",
            "15/15 [==============================] - 0s 1ms/step - loss: 0.3430 - accuracy: 0.8483\n",
            "Epoch 100/100\n",
            "15/15 [==============================] - 0s 2ms/step - loss: 0.4747 - accuracy: 0.8123\n",
            "model created\n"
          ],
          "name": "stdout"
        }
      ]
    },
    {
      "cell_type": "markdown",
      "metadata": {
        "id": "CBY3G-fQg5t2"
      },
      "source": [
        "### 10. Melakukan load model untuk di testing dari hasil traning"
      ]
    },
    {
      "cell_type": "code",
      "metadata": {
        "id": "os0x9ISog5Ge"
      },
      "source": [
        "model = load_model('chatbot_model.h5')\n",
        "intents = json.loads(open('Dataset Chatbot Laptop.json').read())\n",
        "words = pickle.load(open('testing_kata.pkl','rb'))\n",
        "classes = pickle.load(open('testing.pkl','rb'))"
      ],
      "execution_count": 11,
      "outputs": []
    },
    {
      "cell_type": "markdown",
      "metadata": {
        "id": "HvVck3dthZkb"
      },
      "source": [
        "### 11. Membuat Function Predict untuk melakukan predict pada Chatbot"
      ]
    },
    {
      "cell_type": "markdown",
      "metadata": {
        "id": "b8OsAJQlheNr"
      },
      "source": [
        "#### 1. Melakukan Cleaning kalimat"
      ]
    },
    {
      "cell_type": "code",
      "metadata": {
        "id": "UUhSfRgThZKs"
      },
      "source": [
        "def clean_up_sentence(sentence):\n",
        "    # tokenize the pattern - split words into array\n",
        "    sentence_words = nltk.word_tokenize(sentence)\n",
        "    # stem each word - create short form for word\n",
        "    sentence_words = [lemmatizer.lemmatize(word.lower()) for word in sentence_words]\n",
        "    return sentence_words"
      ],
      "execution_count": 12,
      "outputs": []
    },
    {
      "cell_type": "markdown",
      "metadata": {
        "id": "g8Quve3WhplG"
      },
      "source": [
        "#### 2. Melakukan Bag of words untuk predict"
      ]
    },
    {
      "cell_type": "code",
      "metadata": {
        "id": "rVXntm-UhpaM"
      },
      "source": [
        "def bow(sentence, words, show_details=True):\n",
        "    # tokenize the pattern\n",
        "    sentence_words = clean_up_sentence(sentence)\n",
        "    # bag of words - matrix of N words, vocabulary matrix\n",
        "    bag = [0]*len(words)  \n",
        "    for s in sentence_words:\n",
        "        for i,w in enumerate(words):\n",
        "            if w == s: \n",
        "                # assign 1 if current word is in the vocabulary position\n",
        "                bag[i] = 1\n",
        "                if show_details:\n",
        "                    print (\"found in bag: %s\" % w)\n",
        "    return(np.array(bag))"
      ],
      "execution_count": 13,
      "outputs": []
    },
    {
      "cell_type": "markdown",
      "metadata": {
        "id": "FtpdXjuuhzT9"
      },
      "source": [
        "#### 3. Melakukan Predict sesuai kelas kategori ( Classes )"
      ]
    },
    {
      "cell_type": "code",
      "metadata": {
        "id": "lfdXzLm8hzH4"
      },
      "source": [
        "def predict_class(sentence, model):\n",
        "    # filter out predictions below a threshold\n",
        "    p = bow(sentence, words,show_details=False)\n",
        "    res = model.predict(np.array([p]))[0]\n",
        "    ERROR_THRESHOLD = 0.25\n",
        "    results = [[i,r] for i,r in enumerate(res) if r>ERROR_THRESHOLD]\n",
        "    # sort by strength of probability\n",
        "    results.sort(key=lambda x: x[1], reverse=True)\n",
        "    return_list = []\n",
        "    for r in results:\n",
        "        return_list.append({\"intent\": classes[r[0]], \"probability\": str(r[1])})\n",
        "    return return_list"
      ],
      "execution_count": 14,
      "outputs": []
    },
    {
      "cell_type": "markdown",
      "metadata": {
        "id": "72qlEou_h9AN"
      },
      "source": [
        "#### 4. Memanggil Response dalam Chatbot "
      ]
    },
    {
      "cell_type": "code",
      "metadata": {
        "id": "i2QuH97mQtfw"
      },
      "source": [
        "def getResponse(ints, intents_json):\n",
        "    tag = ints[0]['intent']\n",
        "    list_of_intents = intents_json['intents']\n",
        "    for i in list_of_intents:\n",
        "        if(i['tag']== tag):\n",
        "            result = random.choice(i['responses'])\n",
        "            break\n",
        "    return result\n",
        "\n",
        "def chatbot_response(msg):\n",
        "    ints = predict_class(msg, model)\n",
        "    res = getResponse(ints, intents)\n",
        "    return res"
      ],
      "execution_count": 15,
      "outputs": []
    },
    {
      "cell_type": "markdown",
      "metadata": {
        "id": "lk7a0VMLiTbI"
      },
      "source": [
        "### 12. Melakukan Deployment ke website menggunakan Flask"
      ]
    },
    {
      "cell_type": "markdown",
      "metadata": {
        "id": "mCjWnqnPiam-"
      },
      "source": [
        "#### 1. Melakukan instalasi flask-ngrok ( Jika di google colab )"
      ]
    },
    {
      "cell_type": "code",
      "metadata": {
        "colab": {
          "base_uri": "https://localhost:8080/"
        },
        "id": "mLEJkNp4mVor",
        "outputId": "4e85768a-a952-4f9b-99c0-5e3cad343176"
      },
      "source": [
        "!pip install flask-ngrok"
      ],
      "execution_count": 16,
      "outputs": [
        {
          "output_type": "stream",
          "text": [
            "Collecting flask-ngrok\n",
            "  Downloading https://files.pythonhosted.org/packages/af/6c/f54cb686ad1129e27d125d182f90f52b32f284e6c8df58c1bae54fa1adbc/flask_ngrok-0.0.25-py3-none-any.whl\n",
            "Requirement already satisfied: requests in /usr/local/lib/python3.7/dist-packages (from flask-ngrok) (2.23.0)\n",
            "Requirement already satisfied: Flask>=0.8 in /usr/local/lib/python3.7/dist-packages (from flask-ngrok) (1.1.4)\n",
            "Requirement already satisfied: urllib3!=1.25.0,!=1.25.1,<1.26,>=1.21.1 in /usr/local/lib/python3.7/dist-packages (from requests->flask-ngrok) (1.24.3)\n",
            "Requirement already satisfied: chardet<4,>=3.0.2 in /usr/local/lib/python3.7/dist-packages (from requests->flask-ngrok) (3.0.4)\n",
            "Requirement already satisfied: idna<3,>=2.5 in /usr/local/lib/python3.7/dist-packages (from requests->flask-ngrok) (2.10)\n",
            "Requirement already satisfied: certifi>=2017.4.17 in /usr/local/lib/python3.7/dist-packages (from requests->flask-ngrok) (2021.5.30)\n",
            "Requirement already satisfied: Werkzeug<2.0,>=0.15 in /usr/local/lib/python3.7/dist-packages (from Flask>=0.8->flask-ngrok) (1.0.1)\n",
            "Requirement already satisfied: click<8.0,>=5.1 in /usr/local/lib/python3.7/dist-packages (from Flask>=0.8->flask-ngrok) (7.1.2)\n",
            "Requirement already satisfied: Jinja2<3.0,>=2.10.1 in /usr/local/lib/python3.7/dist-packages (from Flask>=0.8->flask-ngrok) (2.11.3)\n",
            "Requirement already satisfied: itsdangerous<2.0,>=0.24 in /usr/local/lib/python3.7/dist-packages (from Flask>=0.8->flask-ngrok) (1.1.0)\n",
            "Requirement already satisfied: MarkupSafe>=0.23 in /usr/local/lib/python3.7/dist-packages (from Jinja2<3.0,>=2.10.1->Flask>=0.8->flask-ngrok) (2.0.1)\n",
            "Installing collected packages: flask-ngrok\n",
            "Successfully installed flask-ngrok-0.0.25\n"
          ],
          "name": "stdout"
        }
      ]
    },
    {
      "cell_type": "code",
      "metadata": {
        "colab": {
          "base_uri": "https://localhost:8080/"
        },
        "id": "mmgQzEWzAMiP",
        "outputId": "04502a72-b086-4787-b0ee-6263e9567ed8"
      },
      "source": [
        "!heroku logs\n",
        "!heroku logs -n 200\n",
        "!heroku logs --tail"
      ],
      "execution_count": 17,
      "outputs": [
        {
          "output_type": "stream",
          "text": [
            "/bin/bash: heroku: command not found\n",
            "/bin/bash: heroku: command not found\n",
            "/bin/bash: heroku: command not found\n"
          ],
          "name": "stdout"
        }
      ]
    },
    {
      "cell_type": "markdown",
      "metadata": {
        "id": "h4QMazG2igkt"
      },
      "source": [
        "#### 2. Deployment hasil model melalui website dari Google Colab"
      ]
    },
    {
      "cell_type": "code",
      "metadata": {
        "colab": {
          "base_uri": "https://localhost:8080/"
        },
        "id": "zB2bUxj8mZ8q",
        "outputId": "9aea6467-defc-4564-d6fc-972d6f455884"
      },
      "source": [
        "from flask_ngrok import run_with_ngrok\n",
        "from flask import Flask , render_template , request , url_for\n",
        "\n",
        "app = Flask(__name__)\n",
        "\n",
        "run_with_ngrok(app)   #starts ngrok when the app is run jika di google colab\n",
        "\n",
        "@app.route(\"/\")\n",
        "def home(): \n",
        "    return render_template(\"Design Chatbot.html\")\n",
        "\n",
        "list_question = []\n",
        "list_answer = []\n",
        "\n",
        "@app.route(\"/get\")\n",
        "def get_bot_response():    \n",
        "    userText = request.args.get('msg')\n",
        "    list_question.append(userText)\n",
        "    list_answer.append(str(chatbot_response(userText)))     \n",
        "    return str(chatbot_response(userText))\n",
        " \n",
        "  \n",
        "if __name__ == \"__main__\":\n",
        "    app.run()"
      ],
      "execution_count": 18,
      "outputs": [
        {
          "output_type": "stream",
          "text": [
            " * Serving Flask app \"__main__\" (lazy loading)\n",
            " * Environment: production\n",
            "\u001b[31m   WARNING: This is a development server. Do not use it in a production deployment.\u001b[0m\n",
            "\u001b[2m   Use a production WSGI server instead.\u001b[0m\n",
            " * Debug mode: off\n"
          ],
          "name": "stdout"
        },
        {
          "output_type": "stream",
          "text": [
            " * Running on http://127.0.0.1:5000/ (Press CTRL+C to quit)\n"
          ],
          "name": "stderr"
        },
        {
          "output_type": "stream",
          "text": [
            " * Running on http://8a41c0f2e0e1.ngrok.io\n",
            " * Traffic stats available on http://127.0.0.1:4040\n"
          ],
          "name": "stdout"
        },
        {
          "output_type": "stream",
          "text": [
            "127.0.0.1 - - [15/Jun/2021 04:53:04] \"\u001b[37mGET / HTTP/1.1\u001b[0m\" 200 -\n",
            "127.0.0.1 - - [15/Jun/2021 04:53:06] \"\u001b[37mGET /static/images/Chatop%20Wallpaper.jpg HTTP/1.1\u001b[0m\" 200 -\n",
            "127.0.0.1 - - [15/Jun/2021 04:53:06] \"\u001b[37mGET /static/images/Icon%20send%20chatbot.png HTTP/1.1\u001b[0m\" 200 -\n",
            "127.0.0.1 - - [15/Jun/2021 04:53:06] \"\u001b[37mGET / HTTP/1.1\u001b[0m\" 200 -\n",
            "127.0.0.1 - - [15/Jun/2021 04:53:08] \"\u001b[33mGET /favicon.ico HTTP/1.1\u001b[0m\" 404 -\n",
            "127.0.0.1 - - [15/Jun/2021 04:53:08] \"\u001b[37mGET /static/images/Chatop%20Wallpaper.jpg HTTP/1.1\u001b[0m\" 200 -\n",
            "127.0.0.1 - - [15/Jun/2021 04:53:09] \"\u001b[37mGET /static/images/Icon%20send%20chatbot.png HTTP/1.1\u001b[0m\" 200 -\n",
            "127.0.0.1 - - [15/Jun/2021 04:53:14] \"\u001b[37mGET /get?msg=hello%20there HTTP/1.1\u001b[0m\" 200 -\n",
            "127.0.0.1 - - [15/Jun/2021 04:53:23] \"\u001b[37mGET /get?msg=ada%20saran%20untuk%20laptop HTTP/1.1\u001b[0m\" 200 -\n",
            "127.0.0.1 - - [15/Jun/2021 04:53:36] \"\u001b[37mGET /get?msg=kerja HTTP/1.1\u001b[0m\" 200 -\n",
            "127.0.0.1 - - [15/Jun/2021 04:53:42] \"\u001b[37mGET /get?msg=tidak HTTP/1.1\u001b[0m\" 200 -\n",
            "127.0.0.1 - - [15/Jun/2021 04:53:46] \"\u001b[37mGET /get?msg=murah HTTP/1.1\u001b[0m\" 200 -\n",
            "127.0.0.1 - - [15/Jun/2021 04:53:52] \"\u001b[37mGET /get?msg=MSI HTTP/1.1\u001b[0m\" 200 -\n",
            "127.0.0.1 - - [15/Jun/2021 04:54:03] \"\u001b[37mGET /get?msg=terima%20kasih HTTP/1.1\u001b[0m\" 200 -\n"
          ],
          "name": "stderr"
        }
      ]
    },
    {
      "cell_type": "code",
      "metadata": {
        "id": "OwxzruUoAAXA",
        "colab": {
          "base_uri": "https://localhost:8080/"
        },
        "outputId": "f9480654-3ad9-4aaf-a0e7-75da19fab4f0"
      },
      "source": [
        "list_question"
      ],
      "execution_count": 19,
      "outputs": [
        {
          "output_type": "execute_result",
          "data": {
            "text/plain": [
              "['hello there',\n",
              " 'ada saran untuk laptop',\n",
              " 'kerja',\n",
              " 'tidak',\n",
              " 'murah',\n",
              " 'MSI',\n",
              " 'terima kasih']"
            ]
          },
          "metadata": {
            "tags": []
          },
          "execution_count": 19
        }
      ]
    },
    {
      "cell_type": "code",
      "metadata": {
        "colab": {
          "base_uri": "https://localhost:8080/"
        },
        "id": "rLLUf_JIAJWa",
        "outputId": "5d459dec-6dd6-45db-ec7a-1aca57eb0396"
      },
      "source": [
        "list_answer"
      ],
      "execution_count": 20,
      "outputs": [
        {
          "output_type": "execute_result",
          "data": {
            "text/plain": [
              "['Good to see you again',\n",
              " 'Boleh. Anda butuh Laptop untuk Performance , Main Game , Kerja , atau 3 in 1',\n",
              " 'Oke , Apakah anda bekerja di bidang AI/Data Scientist , Design 3D , Gaming ? ',\n",
              " 'Oke , Apakah anda mau harga laptop yang murah , sedang , atau boleh dengan harga mahal ?',\n",
              " 'Baik. Anda lebih suka merek apa ya ? ( ASUS , MSI , Acer , Dell , atau mau bebas )',\n",
              " 'Laptop Rekomendasi \\n ( Nama : MSI GS65 Stealth ) \\n ( Merek : MSI ) \\n ( Size : 15,6 inch FHD ) \\n ( Processor : Intel Core i7-8750H ) \\n ( RAM : 16 ) \\n ( GPU : NVIDIA GEFORCE GTX 1070 8 GB ) \\n ( Storage : 512 GB SSD ) \\n ( Harga : 25.000.000,0 ) \\n ( Link : https://www.amazon.com/Stealth-THIN-037-Gaming-i7-8750H-Diamond/dp/B07KDMP51V/ref=sr_1_6?dchild=1&keywords=msi+gs65+stealth+GTX+1070&qid=1617120347&sr=8-6 )',\n",
              " 'Oke']"
            ]
          },
          "metadata": {
            "tags": []
          },
          "execution_count": 20
        }
      ]
    },
    {
      "cell_type": "code",
      "metadata": {
        "id": "fIcaswA-QY_T",
        "colab": {
          "base_uri": "https://localhost:8080/",
          "height": 537
        },
        "outputId": "ed22f587-b22f-401c-ad69-14423d3a3a3c"
      },
      "source": [
        "print(\"Chatop\")\n",
        "\n",
        "for i in range(0,1000):\n",
        "    question = input(\"You : \")\n",
        "    print(\"Bot :\" , chatbot_response(question))\n",
        "\n",
        "    if question in (\"See you\" , \"see you\" , \"Bye\"):\n",
        "        break"
      ],
      "execution_count": 21,
      "outputs": [
        {
          "output_type": "stream",
          "text": [
            "Chatop\n"
          ],
          "name": "stdout"
        },
        {
          "output_type": "error",
          "ename": "KeyboardInterrupt",
          "evalue": "ignored",
          "traceback": [
            "\u001b[0;31m---------------------------------------------------------------------------\u001b[0m",
            "\u001b[0;31mKeyboardInterrupt\u001b[0m                         Traceback (most recent call last)",
            "\u001b[0;32m/usr/local/lib/python3.7/dist-packages/ipykernel/kernelbase.py\u001b[0m in \u001b[0;36m_input_request\u001b[0;34m(self, prompt, ident, parent, password)\u001b[0m\n\u001b[1;32m    728\u001b[0m             \u001b[0;32mtry\u001b[0m\u001b[0;34m:\u001b[0m\u001b[0;34m\u001b[0m\u001b[0;34m\u001b[0m\u001b[0m\n\u001b[0;32m--> 729\u001b[0;31m                 \u001b[0mident\u001b[0m\u001b[0;34m,\u001b[0m \u001b[0mreply\u001b[0m \u001b[0;34m=\u001b[0m \u001b[0mself\u001b[0m\u001b[0;34m.\u001b[0m\u001b[0msession\u001b[0m\u001b[0;34m.\u001b[0m\u001b[0mrecv\u001b[0m\u001b[0;34m(\u001b[0m\u001b[0mself\u001b[0m\u001b[0;34m.\u001b[0m\u001b[0mstdin_socket\u001b[0m\u001b[0;34m,\u001b[0m \u001b[0;36m0\u001b[0m\u001b[0;34m)\u001b[0m\u001b[0;34m\u001b[0m\u001b[0;34m\u001b[0m\u001b[0m\n\u001b[0m\u001b[1;32m    730\u001b[0m             \u001b[0;32mexcept\u001b[0m \u001b[0mException\u001b[0m\u001b[0;34m:\u001b[0m\u001b[0;34m\u001b[0m\u001b[0;34m\u001b[0m\u001b[0m\n",
            "\u001b[0;32m/usr/local/lib/python3.7/dist-packages/jupyter_client/session.py\u001b[0m in \u001b[0;36mrecv\u001b[0;34m(self, socket, mode, content, copy)\u001b[0m\n\u001b[1;32m    802\u001b[0m         \u001b[0;32mtry\u001b[0m\u001b[0;34m:\u001b[0m\u001b[0;34m\u001b[0m\u001b[0;34m\u001b[0m\u001b[0m\n\u001b[0;32m--> 803\u001b[0;31m             \u001b[0mmsg_list\u001b[0m \u001b[0;34m=\u001b[0m \u001b[0msocket\u001b[0m\u001b[0;34m.\u001b[0m\u001b[0mrecv_multipart\u001b[0m\u001b[0;34m(\u001b[0m\u001b[0mmode\u001b[0m\u001b[0;34m,\u001b[0m \u001b[0mcopy\u001b[0m\u001b[0;34m=\u001b[0m\u001b[0mcopy\u001b[0m\u001b[0;34m)\u001b[0m\u001b[0;34m\u001b[0m\u001b[0;34m\u001b[0m\u001b[0m\n\u001b[0m\u001b[1;32m    804\u001b[0m         \u001b[0;32mexcept\u001b[0m \u001b[0mzmq\u001b[0m\u001b[0;34m.\u001b[0m\u001b[0mZMQError\u001b[0m \u001b[0;32mas\u001b[0m \u001b[0me\u001b[0m\u001b[0;34m:\u001b[0m\u001b[0;34m\u001b[0m\u001b[0;34m\u001b[0m\u001b[0m\n",
            "\u001b[0;32m/usr/local/lib/python3.7/dist-packages/zmq/sugar/socket.py\u001b[0m in \u001b[0;36mrecv_multipart\u001b[0;34m(self, flags, copy, track)\u001b[0m\n\u001b[1;32m    582\u001b[0m         \"\"\"\n\u001b[0;32m--> 583\u001b[0;31m         \u001b[0mparts\u001b[0m \u001b[0;34m=\u001b[0m \u001b[0;34m[\u001b[0m\u001b[0mself\u001b[0m\u001b[0;34m.\u001b[0m\u001b[0mrecv\u001b[0m\u001b[0;34m(\u001b[0m\u001b[0mflags\u001b[0m\u001b[0;34m,\u001b[0m \u001b[0mcopy\u001b[0m\u001b[0;34m=\u001b[0m\u001b[0mcopy\u001b[0m\u001b[0;34m,\u001b[0m \u001b[0mtrack\u001b[0m\u001b[0;34m=\u001b[0m\u001b[0mtrack\u001b[0m\u001b[0;34m)\u001b[0m\u001b[0;34m]\u001b[0m\u001b[0;34m\u001b[0m\u001b[0;34m\u001b[0m\u001b[0m\n\u001b[0m\u001b[1;32m    584\u001b[0m         \u001b[0;31m# have first part already, only loop while more to receive\u001b[0m\u001b[0;34m\u001b[0m\u001b[0;34m\u001b[0m\u001b[0;34m\u001b[0m\u001b[0m\n",
            "\u001b[0;32mzmq/backend/cython/socket.pyx\u001b[0m in \u001b[0;36mzmq.backend.cython.socket.Socket.recv\u001b[0;34m()\u001b[0m\n",
            "\u001b[0;32mzmq/backend/cython/socket.pyx\u001b[0m in \u001b[0;36mzmq.backend.cython.socket.Socket.recv\u001b[0;34m()\u001b[0m\n",
            "\u001b[0;32mzmq/backend/cython/socket.pyx\u001b[0m in \u001b[0;36mzmq.backend.cython.socket._recv_copy\u001b[0;34m()\u001b[0m\n",
            "\u001b[0;32m/usr/local/lib/python3.7/dist-packages/zmq/backend/cython/checkrc.pxd\u001b[0m in \u001b[0;36mzmq.backend.cython.checkrc._check_rc\u001b[0;34m()\u001b[0m\n",
            "\u001b[0;31mKeyboardInterrupt\u001b[0m: ",
            "\nDuring handling of the above exception, another exception occurred:\n",
            "\u001b[0;31mKeyboardInterrupt\u001b[0m                         Traceback (most recent call last)",
            "\u001b[0;32m<ipython-input-21-8cf0d9bc49d5>\u001b[0m in \u001b[0;36m<module>\u001b[0;34m()\u001b[0m\n\u001b[1;32m      2\u001b[0m \u001b[0;34m\u001b[0m\u001b[0m\n\u001b[1;32m      3\u001b[0m \u001b[0;32mfor\u001b[0m \u001b[0mi\u001b[0m \u001b[0;32min\u001b[0m \u001b[0mrange\u001b[0m\u001b[0;34m(\u001b[0m\u001b[0;36m0\u001b[0m\u001b[0;34m,\u001b[0m\u001b[0;36m1000\u001b[0m\u001b[0;34m)\u001b[0m\u001b[0;34m:\u001b[0m\u001b[0;34m\u001b[0m\u001b[0;34m\u001b[0m\u001b[0m\n\u001b[0;32m----> 4\u001b[0;31m     \u001b[0mquestion\u001b[0m \u001b[0;34m=\u001b[0m \u001b[0minput\u001b[0m\u001b[0;34m(\u001b[0m\u001b[0;34m\"You : \"\u001b[0m\u001b[0;34m)\u001b[0m\u001b[0;34m\u001b[0m\u001b[0;34m\u001b[0m\u001b[0m\n\u001b[0m\u001b[1;32m      5\u001b[0m     \u001b[0mprint\u001b[0m\u001b[0;34m(\u001b[0m\u001b[0;34m\"Bot :\"\u001b[0m \u001b[0;34m,\u001b[0m \u001b[0mchatbot_response\u001b[0m\u001b[0;34m(\u001b[0m\u001b[0mquestion\u001b[0m\u001b[0;34m)\u001b[0m\u001b[0;34m)\u001b[0m\u001b[0;34m\u001b[0m\u001b[0;34m\u001b[0m\u001b[0m\n\u001b[1;32m      6\u001b[0m \u001b[0;34m\u001b[0m\u001b[0m\n",
            "\u001b[0;32m/usr/local/lib/python3.7/dist-packages/ipykernel/kernelbase.py\u001b[0m in \u001b[0;36mraw_input\u001b[0;34m(self, prompt)\u001b[0m\n\u001b[1;32m    702\u001b[0m             \u001b[0mself\u001b[0m\u001b[0;34m.\u001b[0m\u001b[0m_parent_ident\u001b[0m\u001b[0;34m,\u001b[0m\u001b[0;34m\u001b[0m\u001b[0;34m\u001b[0m\u001b[0m\n\u001b[1;32m    703\u001b[0m             \u001b[0mself\u001b[0m\u001b[0;34m.\u001b[0m\u001b[0m_parent_header\u001b[0m\u001b[0;34m,\u001b[0m\u001b[0;34m\u001b[0m\u001b[0;34m\u001b[0m\u001b[0m\n\u001b[0;32m--> 704\u001b[0;31m             \u001b[0mpassword\u001b[0m\u001b[0;34m=\u001b[0m\u001b[0;32mFalse\u001b[0m\u001b[0;34m,\u001b[0m\u001b[0;34m\u001b[0m\u001b[0;34m\u001b[0m\u001b[0m\n\u001b[0m\u001b[1;32m    705\u001b[0m         )\n\u001b[1;32m    706\u001b[0m \u001b[0;34m\u001b[0m\u001b[0m\n",
            "\u001b[0;32m/usr/local/lib/python3.7/dist-packages/ipykernel/kernelbase.py\u001b[0m in \u001b[0;36m_input_request\u001b[0;34m(self, prompt, ident, parent, password)\u001b[0m\n\u001b[1;32m    732\u001b[0m             \u001b[0;32mexcept\u001b[0m \u001b[0mKeyboardInterrupt\u001b[0m\u001b[0;34m:\u001b[0m\u001b[0;34m\u001b[0m\u001b[0;34m\u001b[0m\u001b[0m\n\u001b[1;32m    733\u001b[0m                 \u001b[0;31m# re-raise KeyboardInterrupt, to truncate traceback\u001b[0m\u001b[0;34m\u001b[0m\u001b[0;34m\u001b[0m\u001b[0;34m\u001b[0m\u001b[0m\n\u001b[0;32m--> 734\u001b[0;31m                 \u001b[0;32mraise\u001b[0m \u001b[0mKeyboardInterrupt\u001b[0m\u001b[0;34m\u001b[0m\u001b[0;34m\u001b[0m\u001b[0m\n\u001b[0m\u001b[1;32m    735\u001b[0m             \u001b[0;32melse\u001b[0m\u001b[0;34m:\u001b[0m\u001b[0;34m\u001b[0m\u001b[0;34m\u001b[0m\u001b[0m\n\u001b[1;32m    736\u001b[0m                 \u001b[0;32mbreak\u001b[0m\u001b[0;34m\u001b[0m\u001b[0;34m\u001b[0m\u001b[0m\n",
            "\u001b[0;31mKeyboardInterrupt\u001b[0m: "
          ]
        }
      ]
    },
    {
      "cell_type": "markdown",
      "metadata": {
        "id": "_GFdcFKRCTaA"
      },
      "source": [
        "### 13. Training Rekomendasi Laptop berdasarkan hasil input dan output Chatbot"
      ]
    },
    {
      "cell_type": "code",
      "metadata": {
        "id": "NmS3ARUoaUQV"
      },
      "source": [
        "dropped_column = [\"Nama Laptop\" , \"Size\" , \"Processor\" , \"GPU\" , \"Storage\" , \"Link\" , \"Harga\" , \"RAM\"] ## List column ambil dari responses chatbot nya\n",
        "X = spek.drop(dropped_column , axis = 1)\n",
        "value_x = X.values\n",
        "Y = spek.iloc[:,0]\n",
        "X\n",
        "\n",
        "## Reshaping untuk Tokenizer text\n",
        "reshaping_x = []\n",
        "\n",
        "for i in range(len(value_x)):\n",
        "    for j in range(len(value_x[i])):\n",
        "        reshaping_x.append(value_x[i][j])"
      ],
      "execution_count": null,
      "outputs": []
    },
    {
      "cell_type": "markdown",
      "metadata": {
        "id": "G9ASVttmC-Ww"
      },
      "source": [
        "### 14. Preprocessing Text dengan tokenizer Deep Learning dari Keras dan Scikit-learn"
      ]
    },
    {
      "cell_type": "code",
      "metadata": {
        "id": "LQMzZVdxadUF"
      },
      "source": [
        "tokenizer = Tokenizer()\n",
        "tokenizer.fit_on_texts(reshaping_x)\n",
        "sequences = tokenizer.texts_to_sequences(reshaping_x)\n",
        "\n",
        "sequences_numpy = np.array(sequences)\n",
        "\n",
        "j = len(sequences_numpy)/len(X)\n",
        "sequences_numpy = sequences_numpy.reshape(8,2)\n",
        "\n",
        "vocabulary_size = len(tokenizer.word_counts)"
      ],
      "execution_count": null,
      "outputs": []
    },
    {
      "cell_type": "code",
      "metadata": {
        "id": "oX7Q-4eGawCu"
      },
      "source": [
        "from sklearn.preprocessing import LabelEncoder # Mengonvert hasil y menjadi kode angka\n",
        "converter = LabelEncoder()\n",
        "Y_convert = converter.fit_transform(Y)"
      ],
      "execution_count": null,
      "outputs": []
    },
    {
      "cell_type": "code",
      "metadata": {
        "id": "Ndk7dQ8kayLN"
      },
      "source": [
        "import keras.utils\n",
        "from keras.utils.np_utils import to_categorical\n",
        "\n",
        "x = sequences_numpy\n",
        "y = Y_convert\n",
        "\n",
        "y = to_categorical(y , num_classes=vocabulary_size+1)\n",
        "\n",
        "seq_len = len(x)"
      ],
      "execution_count": null,
      "outputs": []
    },
    {
      "cell_type": "markdown",
      "metadata": {
        "id": "5C_4NaHoEUVN"
      },
      "source": [
        "### 15. Membuat Model Deep Learning LSTM"
      ]
    },
    {
      "cell_type": "code",
      "metadata": {
        "id": "5GHiEPULap2l"
      },
      "source": [
        "def create_model(vocabulary_size, seq_len):\n",
        "    model = Sequential()\n",
        "    model.add(Embedding(vocabulary_size, 10, input_length=seq_len))\n",
        "    model.add(LSTM(100, return_sequences=True))\n",
        "    model.add(LSTM(100))\n",
        "    model.add(Dense(100, activation='relu'))\n",
        "\n",
        "    model.add(Dense(vocabulary_size, activation='softmax'))\n",
        "    \n",
        "    # Categorical Cross Entropy = Cost Function Classification di Machine Learning\n",
        "    model.compile(loss='categorical_crossentropy', optimizer='adam', metrics=['accuracy'])\n",
        "   \n",
        "    model.summary()\n",
        "    \n",
        "    return model"
      ],
      "execution_count": null,
      "outputs": []
    },
    {
      "cell_type": "code",
      "metadata": {
        "id": "OiaHoalHa1q_"
      },
      "source": [
        "# define model\n",
        "model = create_model(vocabulary_size+1, seq_len)"
      ],
      "execution_count": null,
      "outputs": []
    },
    {
      "cell_type": "markdown",
      "metadata": {
        "id": "SxaOEq4rEaA9"
      },
      "source": [
        "#### Melakukan training LSTM"
      ]
    },
    {
      "cell_type": "code",
      "metadata": {
        "id": "DKCT6Qfra372"
      },
      "source": [
        "# Melakukan training LSTM\n",
        "model.fit(np.array(x), np.array(y), batch_size=128, epochs=75,verbose=1)"
      ],
      "execution_count": null,
      "outputs": []
    },
    {
      "cell_type": "markdown",
      "metadata": {
        "id": "xTu1qJS6HSp3"
      },
      "source": [
        "### 16. Melakukan Predict Hasil Rekomendasi "
      ]
    },
    {
      "cell_type": "code",
      "metadata": {
        "id": "Ud8xAaZba6uu"
      },
      "source": [
        "predict_value = model.predict(converter.fit_transform(Y))\n",
        "predict_values = predict_value[0]\n",
        "predict_values"
      ],
      "execution_count": null,
      "outputs": []
    },
    {
      "cell_type": "code",
      "metadata": {
        "id": "tjM_bh9Fl7jv"
      },
      "source": [
        "make_integer = []\n",
        "for i in range(len(predict_values)):\n",
        "    making_integer = round(predict_values[i])\n",
        "    make_integer.append(making_integer)\n",
        "make_integer\n",
        "\n",
        "what_laptop = converter.inverse_transform(make_integer)\n",
        "print(what_laptop[0])"
      ],
      "execution_count": null,
      "outputs": []
    },
    {
      "cell_type": "markdown",
      "metadata": {
        "id": "0Sir0k3UHgTh"
      },
      "source": [
        "#### Menyimpan hasil data untuk hasil list rekomendasi"
      ]
    },
    {
      "cell_type": "code",
      "metadata": {
        "id": "OjyzU4FJ8Chp"
      },
      "source": [
        "Laptop_first_recommended = {\"Nama Laptop\" : [] , \"Brand\" : [] , \"Size\" : [] , \"Processor\" : [] , \"RAM\" : [] , \"GPU\" : [] , \"Storage\" : [] , \"Harga\" : [] , \"Link\" : []} \n",
        "\n",
        "search_justy = spek.iloc[:,0].values\n",
        "\n",
        "for searchlaptop in range(len(search_justy) + 1):\n",
        "    if what_laptop[0] == search_justy[searchlaptop]:\n",
        "        Laptop_first_recommended[\"Nama Laptop\"].append(search_justy[searchlaptop])\n",
        "        Laptop_first_recommended[\"Brand\"].append(spek.iloc[searchlaptop,1])\n",
        "        Laptop_first_recommended[\"Size\"].append(spek.iloc[searchlaptop,2])\n",
        "        Laptop_first_recommended[\"Processor\"].append(spek.iloc[searchlaptop,3])\n",
        "        Laptop_first_recommended[\"RAM\"].append(spek.iloc[searchlaptop,4])\n",
        "        Laptop_first_recommended[\"GPU\"].append(spek.iloc[searchlaptop,5])\n",
        "        Laptop_first_recommended[\"Storage\"].append(spek.iloc[searchlaptop,6])\n",
        "        Laptop_first_recommended[\"Harga\"].append(spek.iloc[searchlaptop,9])\n",
        "        Laptop_first_recommended[\"Link\"].append(spek.iloc[searchlaptop,8])\n",
        "        break\n",
        "\n",
        "data_laptop = pd.DataFrame(Laptop_first_recommended)\n",
        "data_laptop\n",
        "\n",
        "result = data_laptop.to_json(orient=\"records\")\n",
        "parsed = json.loads(result)\n",
        "json.dumps(parsed , indent = 4)\n",
        "with open('Data_rekomendasilaptop.json' , 'w') as f:\n",
        "    json.dump(parsed,f)"
      ],
      "execution_count": null,
      "outputs": []
    },
    {
      "cell_type": "code",
      "metadata": {
        "id": "qAMB9OFOH9Ax"
      },
      "source": [
        "openfile = json.loads(open('Dataset Chatbot Laptop.json').read())"
      ],
      "execution_count": null,
      "outputs": []
    }
  ]
}